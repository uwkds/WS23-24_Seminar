{
 "cells": [
  {
   "cell_type": "code",
   "execution_count": 2,
   "id": "de85c100",
   "metadata": {},
   "outputs": [],
   "source": [
    "import numpy as np\n",
    "import pandas as pd\n",
    "import matplotlib.pyplot as plt\n",
    "import seaborn as sns\n",
    "\n",
    "import statsmodels.api as sm\n",
    "from statsmodels.graphics.tsaplots import plot_predict\n",
    "from statsmodels.tsa.arima_process import arma_generate_sample\n",
    "from statsmodels.tsa.arima.model import ARIMA"
   ]
  },
  {
   "cell_type": "code",
   "execution_count": 3,
   "id": "090795b9",
   "metadata": {},
   "outputs": [],
   "source": [
    "def compute_return(y, r_type=\"log\", h=1):\n",
    "    \n",
    "    # exclude first h observations, h for horizon, n is the size of observations used\n",
    "    # e.g. compute five-step cumulative returns for the first data in S_T need the T_0-(n+4) observation \n",
    "    y2 = y[h:]\n",
    "    # exclude last h observations\n",
    "    y1 = y[:-h]\n",
    "    \n",
    "    if r_type == \"log\":\n",
    "        ret = np.concatenate(([np.nan]*h, 100 * (np.log(y2) - np.log(y1))))\n",
    "    else:\n",
    "        ret = np.concatenate(([np.nan]*h, 100 * (y2-y1)/y1))\n",
    "        \n",
    "    return ret"
   ]
  },
  {
   "cell_type": "code",
   "execution_count": 4,
   "id": "4e1a4382",
   "metadata": {},
   "outputs": [],
   "source": [
    "import yfinance as yf\n",
    "\n",
    "msft = yf.Ticker(\"^GDAXI\")\n",
    "\n",
    "hist = msft.history(start = '2022-12-30',end = '2024-02-15')\n",
    "\n",
    "data_close_price = hist.drop(columns=[\"Open\",\"High\",\"Low\",\"Volume\",\"Dividends\",\"Stock Splits\"])\n",
    "\n",
    "for i in range(5):\n",
    "   data_close_price[\"ret\"+str(i+1)] = compute_return(data_close_price[\"Close\"].values, h=i+1)\n"
   ]
  },
  {
   "cell_type": "code",
   "execution_count": 5,
   "id": "821cb25d",
   "metadata": {},
   "outputs": [],
   "source": [
    "data_cumret = data_close_price.drop(columns=[\"Close\"]).dropna()"
   ]
  },
  {
   "cell_type": "code",
   "execution_count": 6,
   "id": "4a815e8f",
   "metadata": {},
   "outputs": [
    {
     "name": "stdout",
     "output_type": "stream",
     "text": [
      "7\n"
     ]
    }
   ],
   "source": [
    "#prepare expanding window samples before 2024\n",
    "data_train_list = []\n",
    "due1_data_points = 221\n",
    "for i in range (7):\n",
    "    due_data = data_cumret.iloc[:due1_data_points].copy()\n",
    "    data_train_list.append(due_data)\n",
    "    due1_data_points +=5\n",
    "    \n",
    "print(len(data_train_list))\n"
   ]
  },
  {
   "cell_type": "code",
   "execution_count": 7,
   "id": "cfc6c2da",
   "metadata": {},
   "outputs": [
    {
     "name": "stderr",
     "output_type": "stream",
     "text": [
      "/var/folders/dd/ghzh11c55_5czyfq85wdrrvc0000gn/T/ipykernel_46979/672054319.py:3: UserWarning: Converting to PeriodArray/Index representation will drop timezone information.\n",
      "  data_train_list[i].index = pd.DatetimeIndex(data_train_list[i].index).to_period('D')\n"
     ]
    }
   ],
   "source": [
    "for i in range(len(data_train_list)):\n",
    "    # Convert the index to datetime format\n",
    "    data_train_list[i].index = pd.DatetimeIndex(data_train_list[i].index).to_period('D')\n"
   ]
  },
  {
   "cell_type": "code",
   "execution_count": 8,
   "id": "615e9ffe",
   "metadata": {},
   "outputs": [],
   "source": [
    "due1_data_train = data_train_list[0]"
   ]
  },
  {
   "cell_type": "code",
   "execution_count": 9,
   "id": "0b3d4d3b",
   "metadata": {},
   "outputs": [
    {
     "name": "stdout",
     "output_type": "stream",
     "text": [
      "                               SARIMAX Results                                \n",
      "==============================================================================\n",
      "Dep. Variable:                   ret3   No. Observations:                  221\n",
      "Model:                 ARIMA(2, 0, 0)   Log Likelihood                -339.342\n",
      "Date:                Tue, 02 Apr 2024   AIC                            686.685\n",
      "Time:                        21:26:44   BIC                            700.278\n",
      "Sample:                    01-06-2023   HQIC                           692.173\n",
      "                         - 11-15-2023                                         \n",
      "Covariance Type:                  opg                                         \n",
      "==============================================================================\n",
      "                 coef    std err          z      P>|z|      [0.025      0.975]\n",
      "------------------------------------------------------------------------------\n",
      "const          0.1407      0.181      0.777      0.437      -0.214       0.496\n",
      "ar.L1          0.6997      0.059     11.805      0.000       0.583       0.816\n",
      "ar.L2         -0.1265      0.051     -2.465      0.014      -0.227      -0.026\n",
      "sigma2         1.2595      0.101     12.499      0.000       1.062       1.457\n",
      "===================================================================================\n",
      "Ljung-Box (L1) (Q):                   0.55   Jarque-Bera (JB):                18.64\n",
      "Prob(Q):                              0.46   Prob(JB):                         0.00\n",
      "Heteroskedasticity (H):               0.55   Skew:                            -0.31\n",
      "Prob(H) (two-sided):                  0.01   Kurtosis:                         4.28\n",
      "===================================================================================\n",
      "\n",
      "Warnings:\n",
      "[1] Covariance matrix calculated using the outer product of gradients (complex-step).\n"
     ]
    }
   ],
   "source": [
    "import statsmodels.api as sm\n",
    "\n",
    "arma_mod_ret3 = sm.tsa.ARIMA(due1_data_train[\"ret3\"], order=(2,0,0))\n",
    "arma_res_ret3 = arma_mod_ret3.fit()\n",
    "print(arma_res_ret3.summary())"
   ]
  },
  {
   "cell_type": "code",
   "execution_count": 10,
   "id": "e99e8da3",
   "metadata": {},
   "outputs": [],
   "source": [
    "#1 submission round "
   ]
  },
  {
   "cell_type": "code",
   "execution_count": 11,
   "id": "741279b5",
   "metadata": {},
   "outputs": [],
   "source": [
    "due1_ret3 = due1_data_train[\"ret3\"]\n",
    "\n",
    "due1_lag1_ret3 = due1_ret3[:-1]\n",
    "due1_lag2_ret3 = due1_ret3[:-2]"
   ]
  },
  {
   "cell_type": "code",
   "execution_count": 12,
   "id": "9d6dfda9",
   "metadata": {},
   "outputs": [
    {
     "data": {
      "text/html": [
       "<div>\n",
       "<style scoped>\n",
       "    .dataframe tbody tr th:only-of-type {\n",
       "        vertical-align: middle;\n",
       "    }\n",
       "\n",
       "    .dataframe tbody tr th {\n",
       "        vertical-align: top;\n",
       "    }\n",
       "\n",
       "    .dataframe thead th {\n",
       "        text-align: right;\n",
       "    }\n",
       "</style>\n",
       "<table border=\"1\" class=\"dataframe\">\n",
       "  <thead>\n",
       "    <tr style=\"text-align: right;\">\n",
       "      <th></th>\n",
       "      <th>ret3</th>\n",
       "      <th>ret3_lag1</th>\n",
       "      <th>ret3_lag2</th>\n",
       "    </tr>\n",
       "    <tr>\n",
       "      <th>Date</th>\n",
       "      <th></th>\n",
       "      <th></th>\n",
       "      <th></th>\n",
       "    </tr>\n",
       "  </thead>\n",
       "  <tbody>\n",
       "    <tr>\n",
       "      <th>2023-11-15</th>\n",
       "      <td>3.316881</td>\n",
       "      <td>NaN</td>\n",
       "      <td>NaN</td>\n",
       "    </tr>\n",
       "    <tr>\n",
       "      <th>2023-11-14</th>\n",
       "      <td>1.691453</td>\n",
       "      <td>1.691453</td>\n",
       "      <td>NaN</td>\n",
       "    </tr>\n",
       "    <tr>\n",
       "      <th>2023-11-13</th>\n",
       "      <td>0.754881</td>\n",
       "      <td>0.754881</td>\n",
       "      <td>0.754881</td>\n",
       "    </tr>\n",
       "    <tr>\n",
       "      <th>2023-11-10</th>\n",
       "      <td>0.538060</td>\n",
       "      <td>0.538060</td>\n",
       "      <td>0.538060</td>\n",
       "    </tr>\n",
       "    <tr>\n",
       "      <th>2023-11-09</th>\n",
       "      <td>1.420692</td>\n",
       "      <td>1.420692</td>\n",
       "      <td>1.420692</td>\n",
       "    </tr>\n",
       "    <tr>\n",
       "      <th>...</th>\n",
       "      <td>...</td>\n",
       "      <td>...</td>\n",
       "      <td>...</td>\n",
       "    </tr>\n",
       "    <tr>\n",
       "      <th>2023-01-12</th>\n",
       "      <td>1.778671</td>\n",
       "      <td>1.778671</td>\n",
       "      <td>1.778671</td>\n",
       "    </tr>\n",
       "    <tr>\n",
       "      <th>2023-01-11</th>\n",
       "      <td>2.286394</td>\n",
       "      <td>2.286394</td>\n",
       "      <td>2.286394</td>\n",
       "    </tr>\n",
       "    <tr>\n",
       "      <th>2023-01-10</th>\n",
       "      <td>2.316293</td>\n",
       "      <td>2.316293</td>\n",
       "      <td>2.316293</td>\n",
       "    </tr>\n",
       "    <tr>\n",
       "      <th>2023-01-09</th>\n",
       "      <td>2.063001</td>\n",
       "      <td>2.063001</td>\n",
       "      <td>2.063001</td>\n",
       "    </tr>\n",
       "    <tr>\n",
       "      <th>2023-01-06</th>\n",
       "      <td>2.975728</td>\n",
       "      <td>2.975728</td>\n",
       "      <td>2.975728</td>\n",
       "    </tr>\n",
       "  </tbody>\n",
       "</table>\n",
       "<p>221 rows × 3 columns</p>\n",
       "</div>"
      ],
      "text/plain": [
       "                ret3  ret3_lag1  ret3_lag2\n",
       "Date                                      \n",
       "2023-11-15  3.316881        NaN        NaN\n",
       "2023-11-14  1.691453   1.691453        NaN\n",
       "2023-11-13  0.754881   0.754881   0.754881\n",
       "2023-11-10  0.538060   0.538060   0.538060\n",
       "2023-11-09  1.420692   1.420692   1.420692\n",
       "...              ...        ...        ...\n",
       "2023-01-12  1.778671   1.778671   1.778671\n",
       "2023-01-11  2.286394   2.286394   2.286394\n",
       "2023-01-10  2.316293   2.316293   2.316293\n",
       "2023-01-09  2.063001   2.063001   2.063001\n",
       "2023-01-06  2.975728   2.975728   2.975728\n",
       "\n",
       "[221 rows x 3 columns]"
      ]
     },
     "execution_count": 12,
     "metadata": {},
     "output_type": "execute_result"
    }
   ],
   "source": [
    "due1_ret3_ar2_df = pd.concat([due1_ret3,due1_lag1_ret3,due1_lag2_ret3], axis=1)\n",
    "\n",
    "due1_ret3_ar2_df.columns = ['ret3', 'ret3_lag1','ret3_lag2']\n",
    "due1_ret3_ar2_df = due1_ret3_ar2_df.iloc[::-1]\n",
    "due1_ret3_ar2_df"
   ]
  },
  {
   "cell_type": "code",
   "execution_count": 13,
   "id": "658d51d2",
   "metadata": {},
   "outputs": [],
   "source": [
    "due1_ret3_ar2_df['ret3_lag1']=due1_ret3_ar2_df['ret3_lag1'].shift(-1)\n",
    "due1_ret3_ar2_df['ret3_lag2']=due1_ret3_ar2_df['ret3_lag2'].shift(-2)"
   ]
  },
  {
   "cell_type": "code",
   "execution_count": 14,
   "id": "96e87eca",
   "metadata": {},
   "outputs": [
    {
     "name": "stdout",
     "output_type": "stream",
     "text": [
      "              0.025    0.250     0.500     0.750   0.975\n",
      "Date                                                    \n",
      "2023-11-15 -1.74678  0.66657  1.174961  1.854722  2.9015\n"
     ]
    }
   ],
   "source": [
    "#Fit quantile regresion model \n",
    "import statsmodels.formula.api as smf\n",
    "tau = [.025, .25, .5, .75, .975]\n",
    "estimated_values = []\n",
    "\n",
    "due_date= due1_ret3_ar2_df.head(1)\n",
    "for q in tau:\n",
    "    formula = f'ret3 ~ ret3_lag1 + ret3_lag2'  \n",
    "    model = smf.quantreg(formula, due1_ret3_ar2_df)\n",
    "    result = model.fit(q=q)\n",
    "    predictions = result.predict(due_date)\n",
    "    # Store the predicted values along with the quantile level\n",
    "    estimated_values.append(predictions.rename(q))\n",
    "\n",
    "\n",
    "due1_estimated_values_df = pd.concat(estimated_values, axis=1)\n",
    "\n",
    "# Print the estimated quantiles for the 3-step ahead R on T_0+3\n",
    "print(due1_estimated_values_df) "
   ]
  },
  {
   "cell_type": "code",
   "execution_count": 15,
   "id": "7a2c9232",
   "metadata": {},
   "outputs": [],
   "source": [
    "#2 submission round "
   ]
  },
  {
   "cell_type": "code",
   "execution_count": 16,
   "id": "f0d3cd90",
   "metadata": {},
   "outputs": [],
   "source": [
    "due2_data_train = data_train_list[1]\n",
    "due2_ret3 = due2_data_train[\"ret3\"]\n",
    "\n",
    "due2_lag1_ret3 = due2_ret3[:-1]\n",
    "due2_lag2_ret3 = due2_ret3[:-2]\n",
    "\n",
    "due2_ret3_ar2_df = pd.concat([due2_ret3, due2_lag1_ret3, due2_lag2_ret3], axis=1)\n",
    "\n",
    "due2_ret3_ar2_df.columns = ['ret3', 'ret3_lag1', 'ret3_lag2']\n",
    "due2_ret3_ar2_df = due2_ret3_ar2_df.iloc[::-1]\n",
    "\n",
    "due2_ret3_ar2_df['ret3_lag1'] = due2_ret3_ar2_df['ret3_lag1'].shift(-1)\n",
    "due2_ret3_ar2_df['ret3_lag2'] = due2_ret3_ar2_df['ret3_lag2'].shift(-2)"
   ]
  },
  {
   "cell_type": "code",
   "execution_count": 17,
   "id": "3a6bec0c",
   "metadata": {},
   "outputs": [
    {
     "name": "stdout",
     "output_type": "stream",
     "text": [
      "               0.025     0.250     0.500     0.750     0.975\n",
      "Date                                                        \n",
      "2023-11-22 -2.294039 -0.080228  0.432872  1.063176  2.598829\n"
     ]
    }
   ],
   "source": [
    "\n",
    "estimated_values = []\n",
    "\n",
    "due_date= due2_ret3_ar2_df.head(1)\n",
    "for q in tau:\n",
    "    formula = f'ret3 ~ ret3_lag1 + ret3_lag2'  \n",
    "    model = smf.quantreg(formula, due2_ret3_ar2_df)\n",
    "    result = model.fit(q=q)\n",
    "    predictions = result.predict(due_date)\n",
    "    # Store the predicted values along with the quantile level\n",
    "    estimated_values.append(predictions.rename(q))\n",
    "\n",
    "due2_estimated_values_df = pd.concat(estimated_values, axis=1)\n",
    "\n",
    "# Print the estimated quantiles for the 3-step ahead R on T_0+3\n",
    "print(due2_estimated_values_df)"
   ]
  },
  {
   "cell_type": "code",
   "execution_count": 18,
   "id": "a014ccdf",
   "metadata": {},
   "outputs": [],
   "source": [
    "#3 submission round "
   ]
  },
  {
   "cell_type": "code",
   "execution_count": 19,
   "id": "18e15460",
   "metadata": {},
   "outputs": [
    {
     "name": "stdout",
     "output_type": "stream",
     "text": [
      "               0.025     0.250     0.500     0.750     0.975\n",
      "Date                                                        \n",
      "2023-11-29 -2.782712 -0.499587  0.038091  0.742515  2.324851\n"
     ]
    }
   ],
   "source": [
    "due3_data_train = data_train_list[2]\n",
    "due3_ret3 = due3_data_train[\"ret3\"]\n",
    "\n",
    "due3_lag1_ret3 = due3_ret3[:-1]\n",
    "due3_lag2_ret3 = due3_ret3[:-2]\n",
    "\n",
    "due3_ret3_ar2_df = pd.concat([due3_ret3, due3_lag1_ret3, due3_lag2_ret3], axis=1)\n",
    "\n",
    "due3_ret3_ar2_df.columns = ['ret3', 'ret3_lag1', 'ret3_lag2']\n",
    "due3_ret3_ar2_df = due3_ret3_ar2_df.iloc[::-1]\n",
    "\n",
    "due3_ret3_ar2_df['ret3_lag1'] = due3_ret3_ar2_df['ret3_lag1'].shift(-1)\n",
    "due3_ret3_ar2_df['ret3_lag2'] = due3_ret3_ar2_df['ret3_lag2'].shift(-2)\n",
    "\n",
    "estimated_values = []\n",
    "\n",
    "due_date= due3_ret3_ar2_df.head(1)\n",
    "for q in tau:\n",
    "    formula = f'ret3 ~ ret3_lag1 + ret3_lag2'  \n",
    "    model = smf.quantreg(formula, due3_ret3_ar2_df)\n",
    "    result = model.fit(q=q)\n",
    "    predictions = result.predict(due_date)\n",
    "    # Store the predicted values along with the quantile level\n",
    "    estimated_values.append(predictions.rename(q))\n",
    "\n",
    "due3_estimated_values_df = pd.concat(estimated_values, axis=1)\n",
    "\n",
    "# Print the estimated quantiles for the 3-step ahead R on T_0+3\n",
    "print(due3_estimated_values_df)"
   ]
  },
  {
   "cell_type": "code",
   "execution_count": 20,
   "id": "d951bc5f",
   "metadata": {},
   "outputs": [],
   "source": [
    "#4 submission round "
   ]
  },
  {
   "cell_type": "code",
   "execution_count": 21,
   "id": "fcb878c3",
   "metadata": {},
   "outputs": [
    {
     "name": "stdout",
     "output_type": "stream",
     "text": [
      "               0.025     0.250     0.500    0.750     0.975\n",
      "Date                                                       \n",
      "2023-12-06 -1.552301  0.820754  1.267265  1.86639  3.011691\n"
     ]
    }
   ],
   "source": [
    "due4_data_train = data_train_list[3]\n",
    "due4_ret3 = due4_data_train[\"ret3\"]\n",
    "\n",
    "due4_lag1_ret3 = due4_ret3[:-1]\n",
    "due4_lag2_ret3 = due4_ret3[:-2]\n",
    "\n",
    "due4_ret3_ar2_df = pd.concat([due4_ret3, due4_lag1_ret3, due4_lag2_ret3], axis=1)\n",
    "\n",
    "due4_ret3_ar2_df.columns = ['ret3', 'ret3_lag1', 'ret3_lag2']\n",
    "due4_ret3_ar2_df = due4_ret3_ar2_df.iloc[::-1]\n",
    "\n",
    "due4_ret3_ar2_df['ret3_lag1'] = due4_ret3_ar2_df['ret3_lag1'].shift(-1)\n",
    "due4_ret3_ar2_df['ret3_lag2'] = due4_ret3_ar2_df['ret3_lag2'].shift(-2)\n",
    "\n",
    "estimated_values = []\n",
    "\n",
    "due_date= due4_ret3_ar2_df.head(1)\n",
    "for q in tau:\n",
    "    formula = f'ret3 ~ ret3_lag1 + ret3_lag2'  \n",
    "    model = smf.quantreg(formula, due4_ret3_ar2_df)\n",
    "    result = model.fit(q=q)\n",
    "    predictions = result.predict(due_date)\n",
    "    # Store the predicted values along with the quantile level\n",
    "    estimated_values.append(predictions.rename(q))\n",
    "\n",
    "due4_estimated_values_df = pd.concat(estimated_values, axis=1)\n",
    "\n",
    "# Print the estimated quantiles for the 3-step ahead R on T_0+3\n",
    "print(due4_estimated_values_df)"
   ]
  },
  {
   "cell_type": "code",
   "execution_count": 22,
   "id": "8355f49c",
   "metadata": {},
   "outputs": [],
   "source": [
    "#5 submission round "
   ]
  },
  {
   "cell_type": "code",
   "execution_count": 23,
   "id": "036fbbda",
   "metadata": {},
   "outputs": [
    {
     "name": "stdout",
     "output_type": "stream",
     "text": [
      "               0.025     0.250     0.500     0.750     0.975\n",
      "Date                                                        \n",
      "2023-12-13 -2.156785  0.154346  0.660554  1.293559  2.674436\n"
     ]
    }
   ],
   "source": [
    "due5_data_train = data_train_list[4]\n",
    "due5_ret3 = due5_data_train[\"ret3\"]\n",
    "\n",
    "due5_lag1_ret3 = due5_ret3[:-1]\n",
    "due5_lag2_ret3 = due5_ret3[:-2]\n",
    "\n",
    "due5_ret3_ar2_df = pd.concat([due5_ret3, due5_lag1_ret3, due5_lag2_ret3], axis=1)\n",
    "\n",
    "due5_ret3_ar2_df.columns = ['ret3', 'ret3_lag1', 'ret3_lag2']\n",
    "due5_ret3_ar2_df = due5_ret3_ar2_df.iloc[::-1]\n",
    "\n",
    "due5_ret3_ar2_df['ret3_lag1'] = due5_ret3_ar2_df['ret3_lag1'].shift(-1)\n",
    "due5_ret3_ar2_df['ret3_lag2'] = due5_ret3_ar2_df['ret3_lag2'].shift(-2)\n",
    "\n",
    "estimated_values = []\n",
    "\n",
    "due_date= due5_ret3_ar2_df.head(1)\n",
    "for q in tau:\n",
    "    formula = f'ret3 ~ ret3_lag1 + ret3_lag2'  \n",
    "    model = smf.quantreg(formula, due5_ret3_ar2_df)\n",
    "    result = model.fit(q=q)\n",
    "    predictions = result.predict(due_date)\n",
    "    # Store the predicted values along with the quantile level\n",
    "    estimated_values.append(predictions.rename(q))\n",
    "\n",
    "due5_estimated_values_df = pd.concat(estimated_values, axis=1)\n",
    "\n",
    "# Print the estimated quantiles for the 3-step ahead R on T_0+3\n",
    "print(due5_estimated_values_df)\n"
   ]
  },
  {
   "cell_type": "code",
   "execution_count": 24,
   "id": "20c79d22",
   "metadata": {},
   "outputs": [],
   "source": [
    "#6 submission round "
   ]
  },
  {
   "cell_type": "code",
   "execution_count": 25,
   "id": "cfaac7d0",
   "metadata": {},
   "outputs": [
    {
     "name": "stdout",
     "output_type": "stream",
     "text": [
      "               0.025     0.250     0.500     0.750     0.975\n",
      "Date                                                        \n",
      "2023-12-20 -2.855471 -0.465933  0.127375  0.910532  2.282007\n"
     ]
    }
   ],
   "source": [
    "due6_data_train = data_train_list[5]\n",
    "due6_ret3 = due6_data_train[\"ret3\"]\n",
    "\n",
    "due6_lag1_ret3 = due6_ret3[:-1]\n",
    "due6_lag2_ret3 = due6_ret3[:-2]\n",
    "\n",
    "due6_ret3_ar2_df = pd.concat([due6_ret3, due6_lag1_ret3, due6_lag2_ret3], axis=1)\n",
    "\n",
    "due6_ret3_ar2_df.columns = ['ret3', 'ret3_lag1', 'ret3_lag2']\n",
    "due6_ret3_ar2_df = due6_ret3_ar2_df.iloc[::-1]\n",
    "\n",
    "due6_ret3_ar2_df['ret3_lag1'] = due6_ret3_ar2_df['ret3_lag1'].shift(-1)\n",
    "due6_ret3_ar2_df['ret3_lag2'] = due6_ret3_ar2_df['ret3_lag2'].shift(-2)\n",
    "\n",
    "estimated_values = []\n",
    "\n",
    "due_date= due6_ret3_ar2_df.head(1)\n",
    "for q in tau:\n",
    "    formula = f'ret3 ~ ret3_lag1 + ret3_lag2'  \n",
    "    model = smf.quantreg(formula, due6_ret3_ar2_df)\n",
    "    result = model.fit(q=q)\n",
    "    predictions = result.predict(due_date)\n",
    "    # Store the predicted values along with the quantile level\n",
    "    estimated_values.append(predictions.rename(q))\n",
    "\n",
    "due6_estimated_values_df = pd.concat(estimated_values, axis=1)\n",
    "\n",
    "# Print the estimated quantiles for the 3-step ahead R on T_0+3\n",
    "print(due6_estimated_values_df)\n"
   ]
  },
  {
   "cell_type": "code",
   "execution_count": 26,
   "id": "2f7f520d",
   "metadata": {},
   "outputs": [],
   "source": [
    "#7 submission round - 2024"
   ]
  },
  {
   "cell_type": "code",
   "execution_count": 27,
   "id": "72a1376a",
   "metadata": {},
   "outputs": [
    {
     "name": "stderr",
     "output_type": "stream",
     "text": [
      "/var/folders/dd/ghzh11c55_5czyfq85wdrrvc0000gn/T/ipykernel_46979/623905567.py:3: UserWarning: Converting to PeriodArray/Index representation will drop timezone information.\n",
      "  due7_data_train.index = pd.DatetimeIndex(due7_data_train.index).to_period('D')\n"
     ]
    }
   ],
   "source": [
    "due7_data_train = data_cumret[:258]\n",
    "due7_data_train\n",
    "due7_data_train.index = pd.DatetimeIndex(due7_data_train.index).to_period('D')\n",
    "\n"
   ]
  },
  {
   "cell_type": "code",
   "execution_count": 28,
   "id": "de273192",
   "metadata": {},
   "outputs": [
    {
     "name": "stdout",
     "output_type": "stream",
     "text": [
      "             0.025     0.250     0.500     0.750     0.975\n",
      "Date                                                      \n",
      "2024-01-10 -2.1455 -0.279226  0.225328  0.758133  2.454617\n"
     ]
    }
   ],
   "source": [
    "due7_ret3 = due7_data_train[\"ret3\"]\n",
    "\n",
    "due7_lag1_ret3 = due7_ret3[:-1]\n",
    "due7_lag2_ret3 = due7_ret3[:-2]\n",
    "\n",
    "due7_ret3_ar2_df = pd.concat([due7_ret3, due7_lag1_ret3, due7_lag2_ret3], axis=1)\n",
    "\n",
    "due7_ret3_ar2_df.columns = ['ret3', 'ret3_lag1', 'ret3_lag2']\n",
    "due7_ret3_ar2_df = due7_ret3_ar2_df.iloc[::-1]\n",
    "\n",
    "due7_ret3_ar2_df['ret3_lag1'] = due7_ret3_ar2_df['ret3_lag1'].shift(-1)\n",
    "due7_ret3_ar2_df['ret3_lag2'] = due7_ret3_ar2_df['ret3_lag2'].shift(-2)\n",
    "\n",
    "estimated_values = []\n",
    "\n",
    "due_date= due7_ret3_ar2_df.head(1)\n",
    "for q in tau:\n",
    "    formula = f'ret3 ~ ret3_lag1 + ret3_lag2'  \n",
    "    model = smf.quantreg(formula, due7_ret3_ar2_df)\n",
    "    result = model.fit(q=q)\n",
    "    predictions = result.predict(due_date)\n",
    "    # Store the predicted values along with the quantile level\n",
    "    estimated_values.append(predictions.rename(q))\n",
    "\n",
    "due7_estimated_values_df = pd.concat(estimated_values, axis=1)\n",
    "\n",
    "# Print the estimated quantiles for the 3-step ahead R on T_0+3\n",
    "print(due7_estimated_values_df)\n"
   ]
  },
  {
   "cell_type": "code",
   "execution_count": 29,
   "id": "89bbbfc3",
   "metadata": {},
   "outputs": [],
   "source": [
    "#8 submission round "
   ]
  },
  {
   "cell_type": "code",
   "execution_count": 30,
   "id": "2262cc92",
   "metadata": {},
   "outputs": [
    {
     "name": "stderr",
     "output_type": "stream",
     "text": [
      "/var/folders/dd/ghzh11c55_5czyfq85wdrrvc0000gn/T/ipykernel_46979/91640667.py:2: UserWarning: Converting to PeriodArray/Index representation will drop timezone information.\n",
      "  due8_data_train.index = pd.DatetimeIndex(due8_data_train.index).to_period('D')\n"
     ]
    }
   ],
   "source": [
    "due8_data_train = data_cumret[:258+5]\n",
    "due8_data_train.index = pd.DatetimeIndex(due8_data_train.index).to_period('D')"
   ]
  },
  {
   "cell_type": "code",
   "execution_count": 31,
   "id": "094c60ee",
   "metadata": {},
   "outputs": [
    {
     "name": "stdout",
     "output_type": "stream",
     "text": [
      "               0.025     0.250     0.500     0.750     0.975\n",
      "Date                                                        \n",
      "2024-01-17 -2.497227 -0.349147  0.198088  0.932883  2.316032\n"
     ]
    }
   ],
   "source": [
    "\n",
    "due8_ret3 = due8_data_train[\"ret3\"]\n",
    "\n",
    "due8_lag1_ret3 = due8_ret3[:-1]\n",
    "due8_lag2_ret3 = due8_ret3[:-2]\n",
    "\n",
    "due8_ret3_ar2_df = pd.concat([due8_ret3, due8_lag1_ret3, due8_lag2_ret3], axis=1)\n",
    "\n",
    "due8_ret3_ar2_df.columns = ['ret3', 'ret3_lag1', 'ret3_lag2']\n",
    "due8_ret3_ar2_df = due8_ret3_ar2_df.iloc[::-1]\n",
    "\n",
    "due8_ret3_ar2_df['ret3_lag1'] = due8_ret3_ar2_df['ret3_lag1'].shift(-1)\n",
    "due8_ret3_ar2_df['ret3_lag2'] = due8_ret3_ar2_df['ret3_lag2'].shift(-2)\n",
    "\n",
    "estimated_values = []\n",
    "\n",
    "due_date= due8_ret3_ar2_df.head(1)\n",
    "for q in tau:\n",
    "    formula = f'ret3 ~ ret3_lag1 + ret3_lag2'  \n",
    "    model = smf.quantreg(formula, due8_ret3_ar2_df)\n",
    "    result = model.fit(q=q)\n",
    "    predictions = result.predict(due_date)\n",
    "    # Store the predicted values along with the quantile level\n",
    "    estimated_values.append(predictions.rename(q))\n",
    "\n",
    "due8_estimated_values_df = pd.concat(estimated_values, axis=1)\n",
    "\n",
    "# Print the estimated quantiles for the 3-step ahead R on T_0+3\n",
    "print(due8_estimated_values_df)\n"
   ]
  },
  {
   "cell_type": "code",
   "execution_count": 32,
   "id": "f5cf7a65",
   "metadata": {},
   "outputs": [],
   "source": [
    "#9 submission round"
   ]
  },
  {
   "cell_type": "code",
   "execution_count": 33,
   "id": "26f01d65",
   "metadata": {},
   "outputs": [
    {
     "name": "stdout",
     "output_type": "stream",
     "text": [
      "               0.025     0.250     0.500     0.750    0.975\n",
      "Date                                                       \n",
      "2024-01-24 -2.125607 -0.332963  0.156481  0.646245  2.37629\n"
     ]
    },
    {
     "name": "stderr",
     "output_type": "stream",
     "text": [
      "/var/folders/dd/ghzh11c55_5czyfq85wdrrvc0000gn/T/ipykernel_46979/3912186577.py:2: UserWarning: Converting to PeriodArray/Index representation will drop timezone information.\n",
      "  due9_data_train.index = pd.DatetimeIndex(due9_data_train.index).to_period('D')\n"
     ]
    }
   ],
   "source": [
    "due9_data_train = data_cumret[:258+10]\n",
    "due9_data_train.index = pd.DatetimeIndex(due9_data_train.index).to_period('D')\n",
    "\n",
    "due9_ret3 = due9_data_train[\"ret3\"]\n",
    "\n",
    "due9_lag1_ret3 = due9_ret3[:-1]\n",
    "\n",
    "due9_lag2_ret3 = due9_ret3[:-2]\n",
    "\n",
    "due9_ret3_ar2_df = pd.concat([due9_ret3, due9_lag1_ret3, due9_lag2_ret3], axis=1)\n",
    "\n",
    "due9_ret3_ar2_df.columns = ['ret3', 'ret3_lag1', 'ret3_lag2']\n",
    "due9_ret3_ar2_df = due9_ret3_ar2_df.iloc[::-1]\n",
    "\n",
    "due9_ret3_ar2_df['ret3_lag1'] = due9_ret3_ar2_df['ret3_lag1'].shift(-1)\n",
    "due9_ret3_ar2_df['ret3_lag2'] = due9_ret3_ar2_df['ret3_lag2'].shift(-2)\n",
    "\n",
    "due_date= due9_ret3_ar2_df.head(1)\n",
    "estimated_values = []\n",
    "\n",
    "for q in tau:\n",
    "    formula = f'ret3 ~ ret3_lag1 + ret3_lag2'  \n",
    "    model = smf.quantreg(formula, due9_ret3_ar2_df)\n",
    "    result = model.fit(q=q)\n",
    "    predictions = result.predict(due_date)\n",
    "    # Store the predicted values along with the quantile level\n",
    "    estimated_values.append(predictions.rename(q))\n",
    "\n",
    "due9_estimated_values_df = pd.concat(estimated_values, axis=1)\n",
    "\n",
    "# Print the estimated quantiles for the 3-step ahead R on T_0+3 \n",
    "print(due9_estimated_values_df)"
   ]
  },
  {
   "cell_type": "code",
   "execution_count": 34,
   "id": "0fa6934b",
   "metadata": {},
   "outputs": [],
   "source": [
    "#10 submission round"
   ]
  },
  {
   "cell_type": "code",
   "execution_count": 35,
   "id": "f5cd57d0",
   "metadata": {},
   "outputs": [
    {
     "name": "stdout",
     "output_type": "stream",
     "text": [
      "               0.025     0.250     0.500     0.750     0.975\n",
      "Date                                                        \n",
      "2024-01-31 -2.268199 -0.232131  0.286844  0.943371  2.392316\n"
     ]
    },
    {
     "name": "stderr",
     "output_type": "stream",
     "text": [
      "/var/folders/dd/ghzh11c55_5czyfq85wdrrvc0000gn/T/ipykernel_46979/3553017868.py:2: UserWarning: Converting to PeriodArray/Index representation will drop timezone information.\n",
      "  due10_data_train.index = pd.DatetimeIndex(due10_data_train.index).to_period('D')\n"
     ]
    }
   ],
   "source": [
    "due10_data_train = data_cumret[:258+15]\n",
    "due10_data_train.index = pd.DatetimeIndex(due10_data_train.index).to_period('D')\n",
    "\n",
    "due10_ret3 = due10_data_train[\"ret3\"]\n",
    "\n",
    "due10_lag1_ret3 = due10_ret3[:-1]\n",
    "\n",
    "due10_lag2_ret3 = due10_ret3[:-2]\n",
    "\n",
    "due10_ret3_ar2_df = pd.concat([due10_ret3, due10_lag1_ret3, due10_lag2_ret3], axis=1)\n",
    "\n",
    "due10_ret3_ar2_df.columns = ['ret3', 'ret3_lag1', 'ret3_lag2']\n",
    "due10_ret3_ar2_df = due10_ret3_ar2_df.iloc[::-1]\n",
    "\n",
    "due10_ret3_ar2_df['ret3_lag1'] = due10_ret3_ar2_df['ret3_lag1'].shift(-1)\n",
    "due10_ret3_ar2_df['ret3_lag2'] = due10_ret3_ar2_df['ret3_lag2'].shift(-2)\n",
    "\n",
    "due_date= due10_ret3_ar2_df.head(1)\n",
    "estimated_values = []\n",
    "\n",
    "for q in tau:\n",
    "    formula = f'ret3 ~ ret3_lag1 + ret3_lag2'  \n",
    "    model = smf.quantreg(formula, due10_ret3_ar2_df)\n",
    "    result = model.fit(q=q)\n",
    "    predictions = result.predict(due_date)\n",
    "    # Store the predicted values along with the quantile level\n",
    "    estimated_values.append(predictions.rename(q))\n",
    "\n",
    "due10_estimated_values_df = pd.concat(estimated_values, axis=1)\n",
    "\n",
    "# Print the estimated quantiles for the 3-step ahead R on T_0+3\n",
    "print(due10_estimated_values_df)\n"
   ]
  },
  {
   "cell_type": "code",
   "execution_count": 36,
   "id": "68b09ba4",
   "metadata": {},
   "outputs": [],
   "source": [
    "#11 submission round"
   ]
  },
  {
   "cell_type": "code",
   "execution_count": 37,
   "id": "8c74caaf",
   "metadata": {},
   "outputs": [
    {
     "name": "stdout",
     "output_type": "stream",
     "text": [
      "               0.025     0.250     0.500     0.750     0.975\n",
      "Date                                                        \n",
      "2024-02-07 -1.938539  0.235419  0.753008  1.478083  2.623726\n"
     ]
    },
    {
     "name": "stderr",
     "output_type": "stream",
     "text": [
      "/var/folders/dd/ghzh11c55_5czyfq85wdrrvc0000gn/T/ipykernel_46979/1040723525.py:2: UserWarning: Converting to PeriodArray/Index representation will drop timezone information.\n",
      "  due11_data_train.index = pd.DatetimeIndex(due11_data_train.index).to_period('D')\n"
     ]
    }
   ],
   "source": [
    "due11_data_train = data_cumret[:258+20]\n",
    "due11_data_train.index = pd.DatetimeIndex(due11_data_train.index).to_period('D')\n",
    "\n",
    "due11_ret3 = due11_data_train[\"ret3\"]\n",
    "\n",
    "due11_lag1_ret3 = due11_ret3[:-1]\n",
    "\n",
    "due11_lag2_ret3 = due11_ret3[:-2]\n",
    "\n",
    "due11_ret3_ar2_df = pd.concat([due11_ret3, due11_lag1_ret3, due11_lag2_ret3], axis=1)\n",
    "\n",
    "due11_ret3_ar2_df.columns = ['ret3', 'ret3_lag1', 'ret3_lag2']\n",
    "due11_ret3_ar2_df = due11_ret3_ar2_df.iloc[::-1]\n",
    "\n",
    "due11_ret3_ar2_df['ret3_lag1'] = due11_ret3_ar2_df['ret3_lag1'].shift(-1)\n",
    "due11_ret3_ar2_df['ret3_lag2'] = due11_ret3_ar2_df['ret3_lag2'].shift(-2)\n",
    "\n",
    "due_date= due11_ret3_ar2_df.head(1)\n",
    "estimated_values = []\n",
    "\n",
    "for q in tau:\n",
    "    formula = f'ret3 ~ ret3_lag1 + ret3_lag2'  \n",
    "    model = smf.quantreg(formula, due11_ret3_ar2_df)\n",
    "    result = model.fit(q=q)\n",
    "    predictions = result.predict(due_date)\n",
    "    # Store the predicted values along with the quantile level\n",
    "    estimated_values.append(predictions.rename(q))\n",
    "\n",
    "due11_estimated_values_df = pd.concat(estimated_values, axis=1)\n",
    "\n",
    "# Print the estimated quantiles for the 3-step ahead R on T_0+3 \n",
    "print(due11_estimated_values_df)\n"
   ]
  },
  {
   "cell_type": "code",
   "execution_count": 38,
   "id": "f4f88507",
   "metadata": {},
   "outputs": [],
   "source": [
    "#12 submission round"
   ]
  },
  {
   "cell_type": "code",
   "execution_count": 39,
   "id": "a083fc53",
   "metadata": {},
   "outputs": [
    {
     "name": "stdout",
     "output_type": "stream",
     "text": [
      "               0.025    0.250     0.500     0.750     0.975\n",
      "Date                                                       \n",
      "2024-02-14 -2.724013 -0.81454 -0.340087  0.219945  2.076444\n"
     ]
    },
    {
     "name": "stderr",
     "output_type": "stream",
     "text": [
      "/var/folders/dd/ghzh11c55_5czyfq85wdrrvc0000gn/T/ipykernel_46979/1566115990.py:2: UserWarning: Converting to PeriodArray/Index representation will drop timezone information.\n",
      "  due12_data_train.index = pd.DatetimeIndex(due12_data_train.index).to_period('D')\n"
     ]
    }
   ],
   "source": [
    "due12_data_train = data_cumret[:258+25]\n",
    "due12_data_train.index = pd.DatetimeIndex(due12_data_train.index).to_period('D')\n",
    "\n",
    "due12_ret3 = due12_data_train[\"ret3\"]\n",
    "\n",
    "due12_lag1_ret3 = due12_ret3[:-1]\n",
    "\n",
    "due12_lag2_ret3 = due12_ret3[:-2]\n",
    "\n",
    "due12_ret3_ar2_df = pd.concat([due12_ret3, due12_lag1_ret3, due12_lag2_ret3], axis=1)\n",
    "\n",
    "due12_ret3_ar2_df.columns = ['ret3', 'ret3_lag1', 'ret3_lag2']\n",
    "due12_ret3_ar2_df = due12_ret3_ar2_df.iloc[::-1]\n",
    "\n",
    "due12_ret3_ar2_df['ret3_lag1'] = due12_ret3_ar2_df['ret3_lag1'].shift(-1)\n",
    "due12_ret3_ar2_df['ret3_lag2'] = due12_ret3_ar2_df['ret3_lag2'].shift(-2)\n",
    "\n",
    "due_date= due12_ret3_ar2_df.head(1)\n",
    "estimated_values = []\n",
    "\n",
    "for q in tau:\n",
    "    formula = f'ret3 ~ ret3_lag1 + ret3_lag2'  \n",
    "    model = smf.quantreg(formula, due12_ret3_ar2_df)\n",
    "    result = model.fit(q=q)\n",
    "    predictions = result.predict(due_date)\n",
    "    # Store the predicted values along with the quantile level\n",
    "    estimated_values.append(predictions.rename(q))\n",
    "\n",
    "due12_estimated_values_df = pd.concat(estimated_values, axis=1)\n",
    "\n",
    "# Print the estimated quantiles for the 3-step ahead R on T_0+3 \n",
    "print(due12_estimated_values_df)\n"
   ]
  },
  {
   "cell_type": "code",
   "execution_count": 40,
   "id": "c14703e2",
   "metadata": {},
   "outputs": [],
   "source": [
    "FC_results_list = [due1_estimated_values_df, due2_estimated_values_df, due3_estimated_values_df, due4_estimated_values_df,\n",
    "                  due5_estimated_values_df, due6_estimated_values_df, due7_estimated_values_df, due8_estimated_values_df,\n",
    "                   due9_estimated_values_df,due10_estimated_values_df, due11_estimated_values_df, due12_estimated_values_df]\n",
    "FC_results_df = pd.concat(FC_results_list, axis=0)"
   ]
  },
  {
   "cell_type": "code",
   "execution_count": 41,
   "id": "ed5fa440",
   "metadata": {},
   "outputs": [
    {
     "data": {
      "text/html": [
       "<div>\n",
       "<style scoped>\n",
       "    .dataframe tbody tr th:only-of-type {\n",
       "        vertical-align: middle;\n",
       "    }\n",
       "\n",
       "    .dataframe tbody tr th {\n",
       "        vertical-align: top;\n",
       "    }\n",
       "\n",
       "    .dataframe thead th {\n",
       "        text-align: right;\n",
       "    }\n",
       "</style>\n",
       "<table border=\"1\" class=\"dataframe\">\n",
       "  <thead>\n",
       "    <tr style=\"text-align: right;\">\n",
       "      <th></th>\n",
       "      <th>0.025</th>\n",
       "      <th>0.250</th>\n",
       "      <th>0.500</th>\n",
       "      <th>0.750</th>\n",
       "      <th>0.975</th>\n",
       "    </tr>\n",
       "    <tr>\n",
       "      <th>Date</th>\n",
       "      <th></th>\n",
       "      <th></th>\n",
       "      <th></th>\n",
       "      <th></th>\n",
       "      <th></th>\n",
       "    </tr>\n",
       "  </thead>\n",
       "  <tbody>\n",
       "    <tr>\n",
       "      <th>2023-11-15</th>\n",
       "      <td>-1.746780</td>\n",
       "      <td>0.666570</td>\n",
       "      <td>1.174961</td>\n",
       "      <td>1.854722</td>\n",
       "      <td>2.901500</td>\n",
       "    </tr>\n",
       "    <tr>\n",
       "      <th>2023-11-22</th>\n",
       "      <td>-2.294039</td>\n",
       "      <td>-0.080228</td>\n",
       "      <td>0.432872</td>\n",
       "      <td>1.063176</td>\n",
       "      <td>2.598829</td>\n",
       "    </tr>\n",
       "    <tr>\n",
       "      <th>2023-11-29</th>\n",
       "      <td>-2.782712</td>\n",
       "      <td>-0.499587</td>\n",
       "      <td>0.038091</td>\n",
       "      <td>0.742515</td>\n",
       "      <td>2.324851</td>\n",
       "    </tr>\n",
       "    <tr>\n",
       "      <th>2023-12-06</th>\n",
       "      <td>-1.552301</td>\n",
       "      <td>0.820754</td>\n",
       "      <td>1.267265</td>\n",
       "      <td>1.866390</td>\n",
       "      <td>3.011691</td>\n",
       "    </tr>\n",
       "    <tr>\n",
       "      <th>2023-12-13</th>\n",
       "      <td>-2.156785</td>\n",
       "      <td>0.154346</td>\n",
       "      <td>0.660554</td>\n",
       "      <td>1.293559</td>\n",
       "      <td>2.674436</td>\n",
       "    </tr>\n",
       "    <tr>\n",
       "      <th>2023-12-20</th>\n",
       "      <td>-2.855471</td>\n",
       "      <td>-0.465933</td>\n",
       "      <td>0.127375</td>\n",
       "      <td>0.910532</td>\n",
       "      <td>2.282007</td>\n",
       "    </tr>\n",
       "    <tr>\n",
       "      <th>2024-01-10</th>\n",
       "      <td>-2.145500</td>\n",
       "      <td>-0.279226</td>\n",
       "      <td>0.225328</td>\n",
       "      <td>0.758133</td>\n",
       "      <td>2.454617</td>\n",
       "    </tr>\n",
       "    <tr>\n",
       "      <th>2024-01-17</th>\n",
       "      <td>-2.497227</td>\n",
       "      <td>-0.349147</td>\n",
       "      <td>0.198088</td>\n",
       "      <td>0.932883</td>\n",
       "      <td>2.316032</td>\n",
       "    </tr>\n",
       "    <tr>\n",
       "      <th>2024-01-24</th>\n",
       "      <td>-2.125607</td>\n",
       "      <td>-0.332963</td>\n",
       "      <td>0.156481</td>\n",
       "      <td>0.646245</td>\n",
       "      <td>2.376290</td>\n",
       "    </tr>\n",
       "    <tr>\n",
       "      <th>2024-01-31</th>\n",
       "      <td>-2.268199</td>\n",
       "      <td>-0.232131</td>\n",
       "      <td>0.286844</td>\n",
       "      <td>0.943371</td>\n",
       "      <td>2.392316</td>\n",
       "    </tr>\n",
       "    <tr>\n",
       "      <th>2024-02-07</th>\n",
       "      <td>-1.938539</td>\n",
       "      <td>0.235419</td>\n",
       "      <td>0.753008</td>\n",
       "      <td>1.478083</td>\n",
       "      <td>2.623726</td>\n",
       "    </tr>\n",
       "    <tr>\n",
       "      <th>2024-02-14</th>\n",
       "      <td>-2.724013</td>\n",
       "      <td>-0.814540</td>\n",
       "      <td>-0.340087</td>\n",
       "      <td>0.219945</td>\n",
       "      <td>2.076444</td>\n",
       "    </tr>\n",
       "  </tbody>\n",
       "</table>\n",
       "</div>"
      ],
      "text/plain": [
       "               0.025     0.250     0.500     0.750     0.975\n",
       "Date                                                        \n",
       "2023-11-15 -1.746780  0.666570  1.174961  1.854722  2.901500\n",
       "2023-11-22 -2.294039 -0.080228  0.432872  1.063176  2.598829\n",
       "2023-11-29 -2.782712 -0.499587  0.038091  0.742515  2.324851\n",
       "2023-12-06 -1.552301  0.820754  1.267265  1.866390  3.011691\n",
       "2023-12-13 -2.156785  0.154346  0.660554  1.293559  2.674436\n",
       "2023-12-20 -2.855471 -0.465933  0.127375  0.910532  2.282007\n",
       "2024-01-10 -2.145500 -0.279226  0.225328  0.758133  2.454617\n",
       "2024-01-17 -2.497227 -0.349147  0.198088  0.932883  2.316032\n",
       "2024-01-24 -2.125607 -0.332963  0.156481  0.646245  2.376290\n",
       "2024-01-31 -2.268199 -0.232131  0.286844  0.943371  2.392316\n",
       "2024-02-07 -1.938539  0.235419  0.753008  1.478083  2.623726\n",
       "2024-02-14 -2.724013 -0.814540 -0.340087  0.219945  2.076444"
      ]
     },
     "execution_count": 41,
     "metadata": {},
     "output_type": "execute_result"
    }
   ],
   "source": [
    "FC_results_df"
   ]
  },
  {
   "cell_type": "code",
   "execution_count": 42,
   "id": "d3d937f3",
   "metadata": {},
   "outputs": [
    {
     "data": {
      "text/html": [
       "<div>\n",
       "<style scoped>\n",
       "    .dataframe tbody tr th:only-of-type {\n",
       "        vertical-align: middle;\n",
       "    }\n",
       "\n",
       "    .dataframe tbody tr th {\n",
       "        vertical-align: top;\n",
       "    }\n",
       "\n",
       "    .dataframe thead th {\n",
       "        text-align: right;\n",
       "    }\n",
       "</style>\n",
       "<table border=\"1\" class=\"dataframe\">\n",
       "  <thead>\n",
       "    <tr style=\"text-align: right;\">\n",
       "      <th></th>\n",
       "      <th>ret3</th>\n",
       "    </tr>\n",
       "    <tr>\n",
       "      <th>Date</th>\n",
       "      <th></th>\n",
       "    </tr>\n",
       "  </thead>\n",
       "  <tbody>\n",
       "    <tr>\n",
       "      <th>2022-12-30 00:00:00+01:00</th>\n",
       "      <td>NaN</td>\n",
       "    </tr>\n",
       "    <tr>\n",
       "      <th>2023-01-02 00:00:00+01:00</th>\n",
       "      <td>NaN</td>\n",
       "    </tr>\n",
       "    <tr>\n",
       "      <th>2023-01-03 00:00:00+01:00</th>\n",
       "      <td>NaN</td>\n",
       "    </tr>\n",
       "    <tr>\n",
       "      <th>2023-01-04 00:00:00+01:00</th>\n",
       "      <td>3.992809</td>\n",
       "    </tr>\n",
       "    <tr>\n",
       "      <th>2023-01-05 00:00:00+01:00</th>\n",
       "      <td>2.575427</td>\n",
       "    </tr>\n",
       "    <tr>\n",
       "      <th>...</th>\n",
       "      <td>...</td>\n",
       "    </tr>\n",
       "    <tr>\n",
       "      <th>2024-02-19 00:00:00+01:00</th>\n",
       "      <td>0.862456</td>\n",
       "    </tr>\n",
       "    <tr>\n",
       "      <th>2024-02-20 00:00:00+01:00</th>\n",
       "      <td>0.127452</td>\n",
       "    </tr>\n",
       "    <tr>\n",
       "      <th>2024-02-21 00:00:00+01:00</th>\n",
       "      <td>0.003971</td>\n",
       "    </tr>\n",
       "    <tr>\n",
       "      <th>2024-02-22 00:00:00+01:00</th>\n",
       "      <td>1.614473</td>\n",
       "    </tr>\n",
       "    <tr>\n",
       "      <th>2024-02-23 00:00:00+01:00</th>\n",
       "      <td>2.034997</td>\n",
       "    </tr>\n",
       "  </tbody>\n",
       "</table>\n",
       "<p>295 rows × 1 columns</p>\n",
       "</div>"
      ],
      "text/plain": [
       "                               ret3\n",
       "Date                               \n",
       "2022-12-30 00:00:00+01:00       NaN\n",
       "2023-01-02 00:00:00+01:00       NaN\n",
       "2023-01-03 00:00:00+01:00       NaN\n",
       "2023-01-04 00:00:00+01:00  3.992809\n",
       "2023-01-05 00:00:00+01:00  2.575427\n",
       "...                             ...\n",
       "2024-02-19 00:00:00+01:00  0.862456\n",
       "2024-02-20 00:00:00+01:00  0.127452\n",
       "2024-02-21 00:00:00+01:00  0.003971\n",
       "2024-02-22 00:00:00+01:00  1.614473\n",
       "2024-02-23 00:00:00+01:00  2.034997\n",
       "\n",
       "[295 rows x 1 columns]"
      ]
     },
     "execution_count": 42,
     "metadata": {},
     "output_type": "execute_result"
    }
   ],
   "source": [
    "#forcasting evaluation\n",
    "realized_data = msft.history(start='2022-12-30', end='2024-02-26')\n",
    "realized_data[\"ret3\"] = compute_return(realized_data[\"Close\"].values, h=3)\n",
    "\n",
    "realized_data = realized_data.drop(columns=[\"Open\", \"High\", \"Low\", \"Close\", \"Volume\", \"Dividends\", \"Stock Splits\"])\n",
    "realized_data"
   ]
  },
  {
   "cell_type": "code",
   "execution_count": 43,
   "id": "e6eda9a9",
   "metadata": {},
   "outputs": [],
   "source": [
    "#realized_data.index = pd.DatetimeIndex(relized_data.index).to_period('D')"
   ]
  },
  {
   "cell_type": "code",
   "execution_count": 44,
   "id": "505e100e",
   "metadata": {},
   "outputs": [
    {
     "data": {
      "text/plain": [
       "['2023-11-20',\n",
       " '2023-11-27',\n",
       " '2023-12-04',\n",
       " '2023-12-11',\n",
       " '2023-12-18',\n",
       " '2023-12-25',\n",
       " '2024-01-15',\n",
       " '2024-01-22',\n",
       " '2024-01-29',\n",
       " '2024-02-05',\n",
       " '2024-02-12',\n",
       " '2024-02-19']"
      ]
     },
     "execution_count": 44,
     "metadata": {},
     "output_type": "execute_result"
    }
   ],
   "source": [
    "dates =  ['2023-11-15', '2023-11-22', '2023-11-29', '2023-12-06', '2023-12-13', '2023-12-20',\n",
    "         '2024-01-10', '2024-01-17', '2024-01-24', '2024-01-31', '2024-02-07', '2024-02-14']\n",
    "\n",
    "# Increment each date by 3 day\n",
    "dates_3stephead = [(pd.to_datetime(date) + pd.DateOffset(days=5)).strftime('%Y-%m-%d') for date in dates]\n",
    "\n",
    "dates_3stephead"
   ]
  },
  {
   "cell_type": "code",
   "execution_count": 49,
   "id": "f145c589",
   "metadata": {},
   "outputs": [],
   "source": [
    "realized_data.loc['2023-12-25 00:00:00+01:00'] = 0.00\n",
    "realized_data.index = pd.to_datetime(realized_data.index)\n",
    "realized_data = realized_data.sort_index()"
   ]
  },
  {
   "cell_type": "code",
   "execution_count": 50,
   "id": "e919c11e",
   "metadata": {},
   "outputs": [],
   "source": [
    "# Use the incremented dates to select data from realized_data\n",
    "\n",
    "realized_T03 = realized_data.loc[dates_3stephead]"
   ]
  },
  {
   "cell_type": "code",
   "execution_count": 51,
   "id": "3cf00a28",
   "metadata": {},
   "outputs": [
    {
     "data": {
      "text/plain": [
       "[[array([0.13573197]),\n",
       "  array([0.15064496]),\n",
       "  array([0.20710176]),\n",
       "  array([0.44343148]),\n",
       "  array([0.096682])],\n",
       " [array([0.1173801]),\n",
       "  array([0.0668957]),\n",
       "  array([0.37930874]),\n",
       "  array([0.50480642]),\n",
       "  array([0.1272633])],\n",
       " [array([0.21230263]),\n",
       "  array([0.98146345]),\n",
       "  array([1.42524883]),\n",
       "  array([1.08123819]),\n",
       "  array([0.04307552])],\n",
       " [array([0.11886689]),\n",
       "  array([0.00214135]),\n",
       "  array([0.44222801]),\n",
       "  array([0.52067667]),\n",
       "  array([0.10933268])],\n",
       " [array([0.07327546]),\n",
       "  array([1.26843226]),\n",
       "  array([1.35183]),\n",
       "  array([0.99241735]),\n",
       "  array([0.16828558])],\n",
       " [array([0.14277355]),\n",
       "  array([0.23296671]),\n",
       "  array([0.12737533]),\n",
       "  array([0.45526621]),\n",
       "  array([0.11410037])],\n",
       " [array([0.08698507]),\n",
       "  array([0.18985993]),\n",
       "  array([0.63112699]),\n",
       "  array([0.58196583]),\n",
       "  array([0.14302079])],\n",
       " [array([0.20086149]),\n",
       "  array([0.93457493]),\n",
       "  array([1.32191442]),\n",
       "  array([0.88067899]),\n",
       "  array([0.03980149])],\n",
       " [array([0.12158885]),\n",
       "  array([0.31956621]),\n",
       "  array([0.14968808]),\n",
       "  array([0.17003778]),\n",
       "  array([0.10350603])],\n",
       " [array([0.11349893]),\n",
       "  array([0.11695523]),\n",
       "  array([0.2850647]),\n",
       "  array([0.47079582]),\n",
       "  array([0.11952685])],\n",
       " [array([0.13090558]),\n",
       "  array([0.22207707]),\n",
       "  array([0.07343521]),\n",
       "  array([0.39925506]),\n",
       "  array([0.09720766])],\n",
       " [array([0.17932344]),\n",
       "  array([0.83849796]),\n",
       "  array([1.20254279]),\n",
       "  array([0.96376538]),\n",
       "  array([0.06069942])]]"
      ]
     },
     "execution_count": 51,
     "metadata": {},
     "output_type": "execute_result"
    }
   ],
   "source": [
    "def quantile_score(q_hat, y, tau):\n",
    "    scores = []\n",
    "    for i in range(len(tau)):\n",
    "        if q_hat[i] > y:\n",
    "            score = 2 * (1 - tau[i]) * (q_hat[i] - y)\n",
    "        elif y >= q_hat[i]:\n",
    "            score = 2 * tau[i] * (y - q_hat[i])\n",
    "        else:\n",
    "            score = 0\n",
    "        scores.append(score)\n",
    "    return scores\n",
    "\n",
    "ret_3_scores = []\n",
    "\n",
    "\n",
    "# Iterate over each submission day (row) in FC_results\n",
    "\n",
    "for i in range(FC_results_df.shape[0]):\n",
    "    q_hat = FC_results_df.iloc[i].values\n",
    "    y = realized_T03.iloc[i].values\n",
    "    scores = quantile_score(q_hat, y, tau)\n",
    "    ret_3_scores.append(scores)\n",
    "    \n",
    "ret_3_scores"
   ]
  },
  {
   "cell_type": "code",
   "execution_count": 52,
   "id": "a37e1fc2",
   "metadata": {},
   "outputs": [],
   "source": [
    "columns = ['due1', 'due2', 'due3', 'due4', 'due5', 'due6', 'due7', 'due8', 'due9', 'due10', 'due11', 'due12']\n",
    "ret_3_scores_df = pd.DataFrame(ret_3_scores).T\n",
    "ret_3_scores_df.columns = columns\n",
    "ret_3_scores_df.index = tau"
   ]
  },
  {
   "cell_type": "code",
   "execution_count": 53,
   "id": "21892d99",
   "metadata": {},
   "outputs": [
    {
     "data": {
      "text/html": [
       "<div>\n",
       "<style scoped>\n",
       "    .dataframe tbody tr th:only-of-type {\n",
       "        vertical-align: middle;\n",
       "    }\n",
       "\n",
       "    .dataframe tbody tr th {\n",
       "        vertical-align: top;\n",
       "    }\n",
       "\n",
       "    .dataframe thead th {\n",
       "        text-align: right;\n",
       "    }\n",
       "</style>\n",
       "<table border=\"1\" class=\"dataframe\">\n",
       "  <thead>\n",
       "    <tr style=\"text-align: right;\">\n",
       "      <th></th>\n",
       "      <th>due1</th>\n",
       "      <th>due2</th>\n",
       "      <th>due3</th>\n",
       "      <th>due4</th>\n",
       "      <th>due5</th>\n",
       "      <th>due6</th>\n",
       "      <th>due7</th>\n",
       "      <th>due8</th>\n",
       "      <th>due9</th>\n",
       "      <th>due10</th>\n",
       "      <th>due11</th>\n",
       "      <th>due12</th>\n",
       "    </tr>\n",
       "  </thead>\n",
       "  <tbody>\n",
       "    <tr>\n",
       "      <th>0.025</th>\n",
       "      <td>[0.1357319734697706]</td>\n",
       "      <td>[0.11738010409005886]</td>\n",
       "      <td>[0.2123026326472771]</td>\n",
       "      <td>[0.1188668897713901]</td>\n",
       "      <td>[0.0732754607338382]</td>\n",
       "      <td>[0.14277354576663887]</td>\n",
       "      <td>[0.08698506763593038]</td>\n",
       "      <td>[0.20086149192947486]</td>\n",
       "      <td>[0.1215888457939942]</td>\n",
       "      <td>[0.11349893041342783]</td>\n",
       "      <td>[0.13090558333217994]</td>\n",
       "      <td>[0.17932344314407075]</td>\n",
       "    </tr>\n",
       "    <tr>\n",
       "      <th>0.250</th>\n",
       "      <td>[0.1506449645484273]</td>\n",
       "      <td>[0.06689570366399628]</td>\n",
       "      <td>[0.9814634534883429]</td>\n",
       "      <td>[0.002141353724975703]</td>\n",
       "      <td>[1.2684322609307523]</td>\n",
       "      <td>[0.23296670773626485]</td>\n",
       "      <td>[0.18985992756559866]</td>\n",
       "      <td>[0.9345749284434784]</td>\n",
       "      <td>[0.319566210071064]</td>\n",
       "      <td>[0.11695523376863871]</td>\n",
       "      <td>[0.22207707203429]</td>\n",
       "      <td>[0.8384979634730514]</td>\n",
       "    </tr>\n",
       "    <tr>\n",
       "      <th>0.500</th>\n",
       "      <td>[0.20710175992871105]</td>\n",
       "      <td>[0.3793087364476655]</td>\n",
       "      <td>[1.4252488251656308]</td>\n",
       "      <td>[0.44222800643520843]</td>\n",
       "      <td>[1.3518300029988888]</td>\n",
       "      <td>[0.1273753266988914]</td>\n",
       "      <td>[0.6311269923531458]</td>\n",
       "      <td>[1.3219144160920668]</td>\n",
       "      <td>[0.1496880793871758]</td>\n",
       "      <td>[0.28506469641617566]</td>\n",
       "      <td>[0.07343521175795997]</td>\n",
       "      <td>[1.2025427864160387]</td>\n",
       "    </tr>\n",
       "    <tr>\n",
       "      <th>0.750</th>\n",
       "      <td>[0.4434314750884383]</td>\n",
       "      <td>[0.5048064236736176]</td>\n",
       "      <td>[1.0812381946070364]</td>\n",
       "      <td>[0.520676674582739]</td>\n",
       "      <td>[0.9924173500260214]</td>\n",
       "      <td>[0.4552662084417321]</td>\n",
       "      <td>[0.5819658327680911]</td>\n",
       "      <td>[0.8806789903278069]</td>\n",
       "      <td>[0.17003778104591133]</td>\n",
       "      <td>[0.4707958215459866]</td>\n",
       "      <td>[0.39925506013011447]</td>\n",
       "      <td>[0.9637653831684039]</td>\n",
       "    </tr>\n",
       "    <tr>\n",
       "      <th>0.975</th>\n",
       "      <td>[0.09668200463112815]</td>\n",
       "      <td>[0.1272632960139703]</td>\n",
       "      <td>[0.043075524659906]</td>\n",
       "      <td>[0.10933268423253771]</td>\n",
       "      <td>[0.16828557617754963]</td>\n",
       "      <td>[0.11410037262848262]</td>\n",
       "      <td>[0.14302078931261433]</td>\n",
       "      <td>[0.03980148691559574]</td>\n",
       "      <td>[0.10350603358454791]</td>\n",
       "      <td>[0.11952685283979464]</td>\n",
       "      <td>[0.09720766293008729]</td>\n",
       "      <td>[0.060699415451839246]</td>\n",
       "    </tr>\n",
       "  </tbody>\n",
       "</table>\n",
       "</div>"
      ],
      "text/plain": [
       "                        due1                   due2                  due3  \\\n",
       "0.025   [0.1357319734697706]  [0.11738010409005886]  [0.2123026326472771]   \n",
       "0.250   [0.1506449645484273]  [0.06689570366399628]  [0.9814634534883429]   \n",
       "0.500  [0.20710175992871105]   [0.3793087364476655]  [1.4252488251656308]   \n",
       "0.750   [0.4434314750884383]   [0.5048064236736176]  [1.0812381946070364]   \n",
       "0.975  [0.09668200463112815]   [0.1272632960139703]   [0.043075524659906]   \n",
       "\n",
       "                         due4                   due5                   due6  \\\n",
       "0.025    [0.1188668897713901]   [0.0732754607338382]  [0.14277354576663887]   \n",
       "0.250  [0.002141353724975703]   [1.2684322609307523]  [0.23296670773626485]   \n",
       "0.500   [0.44222800643520843]   [1.3518300029988888]   [0.1273753266988914]   \n",
       "0.750     [0.520676674582739]   [0.9924173500260214]   [0.4552662084417321]   \n",
       "0.975   [0.10933268423253771]  [0.16828557617754963]  [0.11410037262848262]   \n",
       "\n",
       "                        due7                   due8                   due9  \\\n",
       "0.025  [0.08698506763593038]  [0.20086149192947486]   [0.1215888457939942]   \n",
       "0.250  [0.18985992756559866]   [0.9345749284434784]    [0.319566210071064]   \n",
       "0.500   [0.6311269923531458]   [1.3219144160920668]   [0.1496880793871758]   \n",
       "0.750   [0.5819658327680911]   [0.8806789903278069]  [0.17003778104591133]   \n",
       "0.975  [0.14302078931261433]  [0.03980148691559574]  [0.10350603358454791]   \n",
       "\n",
       "                       due10                  due11                   due12  \n",
       "0.025  [0.11349893041342783]  [0.13090558333217994]   [0.17932344314407075]  \n",
       "0.250  [0.11695523376863871]     [0.22207707203429]    [0.8384979634730514]  \n",
       "0.500  [0.28506469641617566]  [0.07343521175795997]    [1.2025427864160387]  \n",
       "0.750   [0.4707958215459866]  [0.39925506013011447]    [0.9637653831684039]  \n",
       "0.975  [0.11952685283979464]  [0.09720766293008729]  [0.060699415451839246]  "
      ]
     },
     "execution_count": 53,
     "metadata": {},
     "output_type": "execute_result"
    }
   ],
   "source": [
    "ret_3_scores_df"
   ]
  },
  {
   "cell_type": "code",
   "execution_count": 54,
   "id": "c7208ed8",
   "metadata": {},
   "outputs": [],
   "source": [
    "ret_3_scores_df=ret_3_scores_df.astype(float)"
   ]
  },
  {
   "cell_type": "code",
   "execution_count": 55,
   "id": "6be409f7",
   "metadata": {},
   "outputs": [
    {
     "data": {
      "text/html": [
       "<div>\n",
       "<style scoped>\n",
       "    .dataframe tbody tr th:only-of-type {\n",
       "        vertical-align: middle;\n",
       "    }\n",
       "\n",
       "    .dataframe tbody tr th {\n",
       "        vertical-align: top;\n",
       "    }\n",
       "\n",
       "    .dataframe thead th {\n",
       "        text-align: right;\n",
       "    }\n",
       "</style>\n",
       "<table border=\"1\" class=\"dataframe\">\n",
       "  <thead>\n",
       "    <tr style=\"text-align: right;\">\n",
       "      <th></th>\n",
       "      <th>due1</th>\n",
       "      <th>due2</th>\n",
       "      <th>due3</th>\n",
       "      <th>due4</th>\n",
       "      <th>due5</th>\n",
       "      <th>due6</th>\n",
       "      <th>due7</th>\n",
       "      <th>due8</th>\n",
       "      <th>due9</th>\n",
       "      <th>due10</th>\n",
       "      <th>due11</th>\n",
       "      <th>due12</th>\n",
       "    </tr>\n",
       "  </thead>\n",
       "  <tbody>\n",
       "    <tr>\n",
       "      <th>0.025</th>\n",
       "      <td>0.135732</td>\n",
       "      <td>0.117380</td>\n",
       "      <td>0.212303</td>\n",
       "      <td>0.118867</td>\n",
       "      <td>0.073275</td>\n",
       "      <td>0.142774</td>\n",
       "      <td>0.086985</td>\n",
       "      <td>0.200861</td>\n",
       "      <td>0.121589</td>\n",
       "      <td>0.113499</td>\n",
       "      <td>0.130906</td>\n",
       "      <td>0.179323</td>\n",
       "    </tr>\n",
       "    <tr>\n",
       "      <th>0.250</th>\n",
       "      <td>0.150645</td>\n",
       "      <td>0.066896</td>\n",
       "      <td>0.981463</td>\n",
       "      <td>0.002141</td>\n",
       "      <td>1.268432</td>\n",
       "      <td>0.232967</td>\n",
       "      <td>0.189860</td>\n",
       "      <td>0.934575</td>\n",
       "      <td>0.319566</td>\n",
       "      <td>0.116955</td>\n",
       "      <td>0.222077</td>\n",
       "      <td>0.838498</td>\n",
       "    </tr>\n",
       "    <tr>\n",
       "      <th>0.500</th>\n",
       "      <td>0.207102</td>\n",
       "      <td>0.379309</td>\n",
       "      <td>1.425249</td>\n",
       "      <td>0.442228</td>\n",
       "      <td>1.351830</td>\n",
       "      <td>0.127375</td>\n",
       "      <td>0.631127</td>\n",
       "      <td>1.321914</td>\n",
       "      <td>0.149688</td>\n",
       "      <td>0.285065</td>\n",
       "      <td>0.073435</td>\n",
       "      <td>1.202543</td>\n",
       "    </tr>\n",
       "    <tr>\n",
       "      <th>0.750</th>\n",
       "      <td>0.443431</td>\n",
       "      <td>0.504806</td>\n",
       "      <td>1.081238</td>\n",
       "      <td>0.520677</td>\n",
       "      <td>0.992417</td>\n",
       "      <td>0.455266</td>\n",
       "      <td>0.581966</td>\n",
       "      <td>0.880679</td>\n",
       "      <td>0.170038</td>\n",
       "      <td>0.470796</td>\n",
       "      <td>0.399255</td>\n",
       "      <td>0.963765</td>\n",
       "    </tr>\n",
       "    <tr>\n",
       "      <th>0.975</th>\n",
       "      <td>0.096682</td>\n",
       "      <td>0.127263</td>\n",
       "      <td>0.043076</td>\n",
       "      <td>0.109333</td>\n",
       "      <td>0.168286</td>\n",
       "      <td>0.114100</td>\n",
       "      <td>0.143021</td>\n",
       "      <td>0.039801</td>\n",
       "      <td>0.103506</td>\n",
       "      <td>0.119527</td>\n",
       "      <td>0.097208</td>\n",
       "      <td>0.060699</td>\n",
       "    </tr>\n",
       "  </tbody>\n",
       "</table>\n",
       "</div>"
      ],
      "text/plain": [
       "           due1      due2      due3      due4      due5      due6      due7  \\\n",
       "0.025  0.135732  0.117380  0.212303  0.118867  0.073275  0.142774  0.086985   \n",
       "0.250  0.150645  0.066896  0.981463  0.002141  1.268432  0.232967  0.189860   \n",
       "0.500  0.207102  0.379309  1.425249  0.442228  1.351830  0.127375  0.631127   \n",
       "0.750  0.443431  0.504806  1.081238  0.520677  0.992417  0.455266  0.581966   \n",
       "0.975  0.096682  0.127263  0.043076  0.109333  0.168286  0.114100  0.143021   \n",
       "\n",
       "           due8      due9     due10     due11     due12  \n",
       "0.025  0.200861  0.121589  0.113499  0.130906  0.179323  \n",
       "0.250  0.934575  0.319566  0.116955  0.222077  0.838498  \n",
       "0.500  1.321914  0.149688  0.285065  0.073435  1.202543  \n",
       "0.750  0.880679  0.170038  0.470796  0.399255  0.963765  \n",
       "0.975  0.039801  0.103506  0.119527  0.097208  0.060699  "
      ]
     },
     "execution_count": 55,
     "metadata": {},
     "output_type": "execute_result"
    }
   ],
   "source": [
    "ret_3_scores_df"
   ]
  },
  {
   "cell_type": "code",
   "execution_count": 56,
   "id": "f19f3832",
   "metadata": {},
   "outputs": [
    {
     "data": {
      "text/plain": [
       "<Axes: >"
      ]
     },
     "execution_count": 56,
     "metadata": {},
     "output_type": "execute_result"
    },
    {
     "data": {
      "image/png": "[encoded data removed]",
      "text/plain": [
       "<Figure size 640x480 with 1 Axes>"
      ]
     },
     "metadata": {},
     "output_type": "display_data"
    }
   ],
   "source": [
    "ret_3_scores_df.plot()"
   ]
  },
  {
   "cell_type": "code",
   "execution_count": null,
   "id": "f475cd5e",
   "metadata": {},
   "outputs": [],
   "source": []
  }
 ],
 "metadata": {
  "kernelspec": {
   "display_name": "Python 3 (ipykernel)",
   "language": "python",
   "name": "python3"
  },
  "language_info": {
   "codemirror_mode": {
    "name": "ipython",
    "version": 3
   },
   "file_extension": ".py",
   "mimetype": "text/x-python",
   "name": "python",
   "nbconvert_exporter": "python",
   "pygments_lexer": "ipython3",
   "version": "3.8.18"
  }
 },
 "nbformat": 4,
 "nbformat_minor": 5
}
