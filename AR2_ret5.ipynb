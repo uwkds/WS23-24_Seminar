{
 "cells": [
  {
   "cell_type": "code",
   "execution_count": 1,
   "id": "8dd055d7",
   "metadata": {},
   "outputs": [],
   "source": [
    "import numpy as np\n",
    "import pandas as pd\n",
    "import matplotlib.pyplot as plt\n",
    "import seaborn as sns\n",
    "\n",
    "import statsmodels.api as sm\n",
    "from statsmodels.graphics.tsaplots import plot_predict\n",
    "from statsmodels.tsa.arima_process import arma_generate_sample\n",
    "from statsmodels.tsa.arima.model import ARIMA"
   ]
  },
  {
   "cell_type": "code",
   "execution_count": 2,
   "id": "e1a72cfd",
   "metadata": {},
   "outputs": [],
   "source": [
    "def compute_return(y, r_type=\"log\", h=1):\n",
    "    \n",
    "    # exclude first h observations, h for horizon, n is the size of observations used\n",
    "    # e.g. compute five-step cumulative returns for the first data in S_T need the T_0-(n+4) observation \n",
    "    y2 = y[h:]\n",
    "    # exclude last h observations\n",
    "    y1 = y[:-h]\n",
    "    \n",
    "    if r_type == \"log\":\n",
    "        ret = np.concatenate(([np.nan]*h, 100 * (np.log(y2) - np.log(y1))))\n",
    "    else:\n",
    "        ret = np.concatenate(([np.nan]*h, 100 * (y2-y1)/y1))\n",
    "        \n",
    "    return ret"
   ]
  },
  {
   "cell_type": "code",
   "execution_count": 3,
   "id": "806eab28",
   "metadata": {},
   "outputs": [],
   "source": [
    "import yfinance as yf\n",
    "\n",
    "msft = yf.Ticker(\"^GDAXI\")\n",
    "\n",
    "hist = msft.history(start = '2022-12-30',end = '2024-02-15')\n",
    "\n",
    "data_close_price = hist.drop(columns=[\"Open\",\"High\",\"Low\",\"Volume\",\"Dividends\",\"Stock Splits\"])\n",
    "\n",
    "for i in range(5):\n",
    "   data_close_price[\"ret\"+str(i+1)] = compute_return(data_close_price[\"Close\"].values, h=i+1)\n"
   ]
  },
  {
   "cell_type": "code",
   "execution_count": 4,
   "id": "07e360c8",
   "metadata": {},
   "outputs": [],
   "source": [
    "data_cumret = data_close_price.drop(columns=[\"Close\"]).dropna()"
   ]
  },
  {
   "cell_type": "code",
   "execution_count": 5,
   "id": "3ac52813",
   "metadata": {},
   "outputs": [
    {
     "name": "stdout",
     "output_type": "stream",
     "text": [
      "7\n"
     ]
    }
   ],
   "source": [
    "#prepare rolling window samples before 2024\n",
    "data_train_list = []\n",
    "due1_data_points = 221\n",
    "for i in range (7):\n",
    "    due_data = data_cumret.iloc[:due1_data_points].copy()\n",
    "    data_train_list.append(due_data)\n",
    "    due1_data_points +=5\n",
    "    \n",
    "print(len(data_train_list))\n"
   ]
  },
  {
   "cell_type": "code",
   "execution_count": 6,
   "id": "0e452be0",
   "metadata": {},
   "outputs": [
    {
     "name": "stderr",
     "output_type": "stream",
     "text": [
      "/var/folders/dd/ghzh11c55_5czyfq85wdrrvc0000gn/T/ipykernel_48127/672054319.py:3: UserWarning: Converting to PeriodArray/Index representation will drop timezone information.\n",
      "  data_train_list[i].index = pd.DatetimeIndex(data_train_list[i].index).to_period('D')\n"
     ]
    }
   ],
   "source": [
    "for i in range(len(data_train_list)):\n",
    "    # Convert the index to datetime format\n",
    "    data_train_list[i].index = pd.DatetimeIndex(data_train_list[i].index).to_period('D')\n"
   ]
  },
  {
   "cell_type": "code",
   "execution_count": 7,
   "id": "0aaad85d",
   "metadata": {},
   "outputs": [],
   "source": [
    "due1_data_train = data_train_list[0]"
   ]
  },
  {
   "cell_type": "code",
   "execution_count": 8,
   "id": "c745e786",
   "metadata": {},
   "outputs": [
    {
     "name": "stdout",
     "output_type": "stream",
     "text": [
      "                               SARIMAX Results                                \n",
      "==============================================================================\n",
      "Dep. Variable:                   ret5   No. Observations:                  221\n",
      "Model:                 ARIMA(2, 0, 0)   Log Likelihood                -339.268\n",
      "Date:                Tue, 02 Apr 2024   AIC                            686.536\n",
      "Time:                        21:39:16   BIC                            700.129\n",
      "Sample:                    01-06-2023   HQIC                           692.025\n",
      "                         - 11-15-2023                                         \n",
      "Covariance Type:                  opg                                         \n",
      "==============================================================================\n",
      "                 coef    std err          z      P>|z|      [0.025      0.975]\n",
      "------------------------------------------------------------------------------\n",
      "const          0.2840      0.304      0.934      0.350      -0.312       0.880\n",
      "ar.L1          0.8895      0.062     14.302      0.000       0.768       1.011\n",
      "ar.L2         -0.1230      0.055     -2.255      0.024      -0.230      -0.016\n",
      "sigma2         1.2558      0.087     14.365      0.000       1.084       1.427\n",
      "===================================================================================\n",
      "Ljung-Box (L1) (Q):                   0.36   Jarque-Bera (JB):                30.12\n",
      "Prob(Q):                              0.55   Prob(JB):                         0.00\n",
      "Heteroskedasticity (H):               0.53   Skew:                            -0.01\n",
      "Prob(H) (two-sided):                  0.01   Kurtosis:                         4.81\n",
      "===================================================================================\n",
      "\n",
      "Warnings:\n",
      "[1] Covariance matrix calculated using the outer product of gradients (complex-step).\n"
     ]
    }
   ],
   "source": [
    "import statsmodels.api as sm\n",
    "\n",
    "arma_mod_ret5= sm.tsa.ARIMA(due1_data_train[\"ret5\"], order=(2,0,0))\n",
    "arma_res_ret5 = arma_mod_ret5.fit()\n",
    "print(arma_res_ret5.summary())"
   ]
  },
  {
   "cell_type": "code",
   "execution_count": 9,
   "id": "5b73c104",
   "metadata": {},
   "outputs": [],
   "source": [
    "#1 submission round "
   ]
  },
  {
   "cell_type": "code",
   "execution_count": 10,
   "id": "76b4055b",
   "metadata": {},
   "outputs": [
    {
     "name": "stdout",
     "output_type": "stream",
     "text": [
      "               0.025     0.250     0.500     0.750     0.975\n",
      "Date                                                        \n",
      "2023-11-15  0.839145  1.910696  2.438119  2.833741  5.157442\n"
     ]
    }
   ],
   "source": [
    "due1_ret5 = due1_data_train[\"ret5\"]\n",
    "\n",
    "due1_lag1_ret5 = due1_ret5[:-1]\n",
    "due1_lag2_ret5 = due1_ret5[:-2]\n",
    "\n",
    "due1_ret5_ar2_df = pd.concat([due1_ret5,due1_lag1_ret5,due1_lag2_ret5], axis=1)\n",
    "\n",
    "due1_ret5_ar2_df.columns = ['ret5', 'ret5_lag1','ret5_lag2']\n",
    "due1_ret5_ar2_df = due1_ret5_ar2_df.iloc[::-1]\n",
    "\n",
    "due1_ret5_ar2_df['ret5_lag1']=due1_ret5_ar2_df['ret5_lag1'].shift(-1)\n",
    "due1_ret5_ar2_df['ret5_lag2']=due1_ret5_ar2_df['ret5_lag2'].shift(-2)\n",
    "\n",
    "#Fit quantile regresion model \n",
    "import statsmodels.formula.api as smf\n",
    "tau = [.025, .25, .5, .75, .975]\n",
    "estimated_values = []\n",
    "\n",
    "due_date= due1_ret5_ar2_df.head(1)\n",
    "for q in tau:\n",
    "    formula = f'ret5 ~ ret5_lag1 + ret5_lag2'  \n",
    "    model = smf.quantreg(formula, due1_ret5_ar2_df)\n",
    "    result = model.fit(q=q)\n",
    "    predictions = result.predict(due_date)\n",
    "    # Store the predicted values along with the quantile level\n",
    "    estimated_values.append(predictions.rename(q))\n",
    "\n",
    "\n",
    "due1_estimated_values_df = pd.concat(estimated_values, axis=1)\n",
    "\n",
    "# Print the estimated quantiles for the 5-step ahead R on T_0+5\n",
    "print(due1_estimated_values_df) \n"
   ]
  },
  {
   "cell_type": "code",
   "execution_count": 11,
   "id": "2b51a721",
   "metadata": {},
   "outputs": [],
   "source": [
    "#2 submission round "
   ]
  },
  {
   "cell_type": "code",
   "execution_count": 12,
   "id": "9e637f65",
   "metadata": {},
   "outputs": [
    {
     "name": "stdout",
     "output_type": "stream",
     "text": [
      "               0.025     0.250    0.500     0.750     0.975\n",
      "Date                                                       \n",
      "2023-11-22 -1.282293  0.516283  1.40468  1.701709  3.070717\n"
     ]
    }
   ],
   "source": [
    "due2_data_train = data_train_list[1]\n",
    "\n",
    "due2_ret5 = due2_data_train[\"ret5\"]\n",
    "\n",
    "due2_lag1_ret5 = due2_ret5[:-1]\n",
    "due2_lag2_ret5 = due2_ret5[:-2]\n",
    "\n",
    "due2_ret5_ar2_df = pd.concat([due2_ret5, due2_lag1_ret5, due2_lag2_ret5], axis=1)\n",
    "\n",
    "due2_ret5_ar2_df.columns = ['ret5', 'ret5_lag1', 'ret5_lag2']\n",
    "due2_ret5_ar2_df = due2_ret5_ar2_df.iloc[::-1]\n",
    "\n",
    "due2_ret5_ar2_df['ret5_lag1'] = due2_ret5_ar2_df['ret5_lag1'].shift(-1)\n",
    "due2_ret5_ar2_df['ret5_lag2'] = due2_ret5_ar2_df['ret5_lag2'].shift(-2)\n",
    "\n",
    "# Fit quantile regression model\n",
    "estimated_values = []\n",
    "\n",
    "due_date = due2_ret5_ar2_df.head(1)\n",
    "for q in tau:\n",
    "    formula = f'ret5 ~ ret5_lag1 + ret5_lag2'  \n",
    "    model = smf.quantreg(formula, due2_ret5_ar2_df)\n",
    "    result = model.fit(q=q)\n",
    "    predictions = result.predict(due_date)\n",
    "    # Store the predicted values along with the quantile level\n",
    "    estimated_values.append(predictions.rename(q))\n",
    "\n",
    "due2_estimated_values_df = pd.concat(estimated_values, axis=1)\n",
    "\n",
    "# Print the estimated quantiles for the 5-step ahead R on T_0+5\n",
    "print(due2_estimated_values_df)"
   ]
  },
  {
   "cell_type": "code",
   "execution_count": 13,
   "id": "d114e4ec",
   "metadata": {},
   "outputs": [],
   "source": [
    "#3 submission round "
   ]
  },
  {
   "cell_type": "code",
   "execution_count": 14,
   "id": "58f10e14",
   "metadata": {},
   "outputs": [
    {
     "name": "stdout",
     "output_type": "stream",
     "text": [
      "               0.025     0.250     0.500     0.750     0.975\n",
      "Date                                                        \n",
      "2023-11-29 -1.735772 -0.034008  0.512053  0.964626  3.083005\n"
     ]
    }
   ],
   "source": [
    "due3_data_train = data_train_list[2]\n",
    "\n",
    "due3_ret5 = due3_data_train[\"ret5\"]\n",
    "\n",
    "due3_lag1_ret5 = due3_ret5[:-1]\n",
    "due3_lag2_ret5 = due3_ret5[:-2]\n",
    "\n",
    "due3_ret5_ar2_df = pd.concat([due3_ret5, due3_lag1_ret5, due3_lag2_ret5], axis=1)\n",
    "\n",
    "due3_ret5_ar2_df.columns = ['ret5', 'ret5_lag1', 'ret5_lag2']\n",
    "due3_ret5_ar2_df = due3_ret5_ar2_df.iloc[::-1]\n",
    "\n",
    "due3_ret5_ar2_df['ret5_lag1'] = due3_ret5_ar2_df['ret5_lag1'].shift(-1)\n",
    "due3_ret5_ar2_df['ret5_lag2'] = due3_ret5_ar2_df['ret5_lag2'].shift(-2)\n",
    "\n",
    "# Fit quantile regression model\n",
    "estimated_values = []\n",
    "\n",
    "due_date = due3_ret5_ar2_df.head(1)\n",
    "for q in tau:\n",
    "    formula = f'ret5 ~ ret5_lag1 + ret5_lag2'  \n",
    "    model = smf.quantreg(formula, due3_ret5_ar2_df)\n",
    "    result = model.fit(q=q)\n",
    "    predictions = result.predict(due_date)\n",
    "    # Store the predicted values along with the quantile level\n",
    "    estimated_values.append(predictions.rename(q))\n",
    "\n",
    "due3_estimated_values_df = pd.concat(estimated_values, axis=1)\n",
    "\n",
    "# Print the estimated quantiles for the 5-step ahead R on T_0+5\n",
    "print(due3_estimated_values_df)"
   ]
  },
  {
   "cell_type": "code",
   "execution_count": 15,
   "id": "770667df",
   "metadata": {},
   "outputs": [],
   "source": [
    "#4 submission round "
   ]
  },
  {
   "cell_type": "code",
   "execution_count": 16,
   "id": "6e8155c8",
   "metadata": {},
   "outputs": [
    {
     "name": "stdout",
     "output_type": "stream",
     "text": [
      "               0.025    0.250    0.500     0.750     0.975\n",
      "Date                                                      \n",
      "2023-12-06  0.789172  2.24487  2.68583  2.985877  4.993377\n"
     ]
    }
   ],
   "source": [
    "due4_data_train = data_train_list[3]\n",
    "\n",
    "due4_ret5 = due4_data_train[\"ret5\"]\n",
    "\n",
    "due4_lag1_ret5 = due4_ret5[:-1]\n",
    "due4_lag2_ret5 = due4_ret5[:-2]\n",
    "\n",
    "due4_ret5_ar2_df = pd.concat([due4_ret5, due4_lag1_ret5, due4_lag2_ret5], axis=1)\n",
    "\n",
    "due4_ret5_ar2_df.columns = ['ret5', 'ret5_lag1', 'ret5_lag2']\n",
    "due4_ret5_ar2_df = due4_ret5_ar2_df.iloc[::-1]\n",
    "\n",
    "due4_ret5_ar2_df['ret5_lag1'] = due4_ret5_ar2_df['ret5_lag1'].shift(-1)\n",
    "due4_ret5_ar2_df['ret5_lag2'] = due4_ret5_ar2_df['ret5_lag2'].shift(-2)\n",
    "\n",
    "# Fit quantile regression model\n",
    "estimated_values = []\n",
    "\n",
    "due_date = due4_ret5_ar2_df.head(1)\n",
    "for q in tau:\n",
    "    formula = f'ret5 ~ ret5_lag1 + ret5_lag2'  \n",
    "    model = smf.quantreg(formula, due4_ret5_ar2_df)\n",
    "    result = model.fit(q=q)\n",
    "    predictions = result.predict(due_date)\n",
    "    # Store the predicted values along with the quantile level\n",
    "    estimated_values.append(predictions.rename(q))\n",
    "\n",
    "due4_estimated_values_df = pd.concat(estimated_values, axis=1)\n",
    "\n",
    "# Print the estimated quantiles for the 5-step ahead R on T_0+5\n",
    "print(due4_estimated_values_df)\n"
   ]
  },
  {
   "cell_type": "code",
   "execution_count": 17,
   "id": "458928e3",
   "metadata": {},
   "outputs": [],
   "source": [
    "#5 submission round "
   ]
  },
  {
   "cell_type": "code",
   "execution_count": 18,
   "id": "0bd6339a",
   "metadata": {},
   "outputs": [
    {
     "name": "stdout",
     "output_type": "stream",
     "text": [
      "               0.025    0.250     0.500     0.750     0.975\n",
      "Date                                                       \n",
      "2023-12-13 -0.960867  0.69462  1.252413  1.581482  3.250781\n"
     ]
    }
   ],
   "source": [
    "due5_data_train = data_train_list[4]\n",
    "\n",
    "due5_ret5 = due5_data_train[\"ret5\"]\n",
    "\n",
    "due5_lag1_ret5 = due5_ret5[:-1]\n",
    "due5_lag2_ret5 = due5_ret5[:-2]\n",
    "\n",
    "due5_ret5_ar2_df = pd.concat([due5_ret5, due5_lag1_ret5, due5_lag2_ret5], axis=1)\n",
    "\n",
    "due5_ret5_ar2_df.columns = ['ret5', 'ret5_lag1', 'ret5_lag2']\n",
    "due5_ret5_ar2_df = due5_ret5_ar2_df.iloc[::-1]\n",
    "\n",
    "due5_ret5_ar2_df['ret5_lag1'] = due5_ret5_ar2_df['ret5_lag1'].shift(-1)\n",
    "due5_ret5_ar2_df['ret5_lag2'] = due5_ret5_ar2_df['ret5_lag2'].shift(-2)\n",
    "\n",
    "# Fit quantile regression model\n",
    "estimated_values = []\n",
    "\n",
    "due_date = due5_ret5_ar2_df.head(1)\n",
    "for q in tau:\n",
    "    formula = f'ret5 ~ ret5_lag1 + ret5_lag2'  \n",
    "    model = smf.quantreg(formula, due5_ret5_ar2_df)\n",
    "    result = model.fit(q=q)\n",
    "    predictions = result.predict(due_date)\n",
    "    # Store the predicted values along with the quantile level\n",
    "    estimated_values.append(predictions.rename(q))\n",
    "\n",
    "due5_estimated_values_df = pd.concat(estimated_values, axis=1)\n",
    "\n",
    "# Print the estimated quantiles for the 5-step ahead R on T_0+5\n",
    "print(due5_estimated_values_df)\n"
   ]
  },
  {
   "cell_type": "code",
   "execution_count": 19,
   "id": "5968d4f3",
   "metadata": {},
   "outputs": [],
   "source": [
    "#6 submission round"
   ]
  },
  {
   "cell_type": "code",
   "execution_count": 20,
   "id": "a736f4a5",
   "metadata": {},
   "outputs": [
    {
     "name": "stdout",
     "output_type": "stream",
     "text": [
      "               0.025     0.250     0.500     0.750     0.975\n",
      "Date                                                        \n",
      "2023-12-20 -2.449035 -0.671395 -0.138446  0.483418  2.684745\n"
     ]
    }
   ],
   "source": [
    "due6_data_train = data_train_list[5]\n",
    "\n",
    "due6_ret5 = due6_data_train[\"ret5\"]\n",
    "\n",
    "due6_lag1_ret5 = due6_ret5[:-1]\n",
    "due6_lag2_ret5 = due6_ret5[:-2]\n",
    "\n",
    "due6_ret5_ar2_df = pd.concat([due6_ret5, due6_lag1_ret5, due6_lag2_ret5], axis=1)\n",
    "\n",
    "due6_ret5_ar2_df.columns = ['ret5', 'ret5_lag1', 'ret5_lag2']\n",
    "due6_ret5_ar2_df = due6_ret5_ar2_df.iloc[::-1]\n",
    "\n",
    "due6_ret5_ar2_df['ret5_lag1'] = due6_ret5_ar2_df['ret5_lag1'].shift(-1)\n",
    "due6_ret5_ar2_df['ret5_lag2'] = due6_ret5_ar2_df['ret5_lag2'].shift(-2)\n",
    "\n",
    "# Fit quantile regression model\n",
    "estimated_values = []\n",
    "\n",
    "due_date = due6_ret5_ar2_df.head(1)\n",
    "for q in tau:\n",
    "    formula = f'ret5 ~ ret5_lag1 + ret5_lag2'  \n",
    "    model = smf.quantreg(formula, due6_ret5_ar2_df)\n",
    "    result = model.fit(q=q)\n",
    "    predictions = result.predict(due_date)\n",
    "    # Store the predicted values along with the quantile level\n",
    "    estimated_values.append(predictions.rename(q))\n",
    "\n",
    "due6_estimated_values_df = pd.concat(estimated_values, axis=1)\n",
    "\n",
    "# Print the estimated quantiles for the 5-step ahead R on T_0+5\n",
    "print(due6_estimated_values_df)\n"
   ]
  },
  {
   "cell_type": "code",
   "execution_count": 21,
   "id": "028da57a",
   "metadata": {},
   "outputs": [],
   "source": [
    "#7 submission round - 2024"
   ]
  },
  {
   "cell_type": "code",
   "execution_count": 22,
   "id": "c5062ffa",
   "metadata": {},
   "outputs": [
    {
     "name": "stdout",
     "output_type": "stream",
     "text": [
      "               0.025     0.250     0.500     0.750     0.975\n",
      "Date                                                        \n",
      "2024-01-10 -2.654994 -0.899444 -0.328061  0.220807  2.083033\n"
     ]
    },
    {
     "name": "stderr",
     "output_type": "stream",
     "text": [
      "/var/folders/dd/ghzh11c55_5czyfq85wdrrvc0000gn/T/ipykernel_48127/1307086422.py:3: UserWarning: Converting to PeriodArray/Index representation will drop timezone information.\n",
      "  due7_data_train.index = pd.DatetimeIndex(due7_data_train.index).to_period('D')\n"
     ]
    }
   ],
   "source": [
    "due7_data_train = data_cumret[:258]\n",
    "due7_data_train\n",
    "due7_data_train.index = pd.DatetimeIndex(due7_data_train.index).to_period('D')\n",
    "\n",
    "due7_ret5 = due7_data_train[\"ret5\"]\n",
    "\n",
    "due7_lag1_ret5 = due7_ret5[:-1]\n",
    "due7_lag2_ret5 = due7_ret5[:-2]\n",
    "\n",
    "due7_ret5_ar2_df = pd.concat([due7_ret5, due7_lag1_ret5, due7_lag2_ret5], axis=1)\n",
    "\n",
    "due7_ret5_ar2_df.columns = ['ret5', 'ret5_lag1', 'ret5_lag2']\n",
    "due7_ret5_ar2_df = due7_ret5_ar2_df.iloc[::-1]\n",
    "\n",
    "due7_ret5_ar2_df['ret5_lag1'] = due7_ret5_ar2_df['ret5_lag1'].shift(-1)\n",
    "due7_ret5_ar2_df['ret5_lag2'] = due7_ret5_ar2_df['ret5_lag2'].shift(-2)\n",
    "\n",
    "estimated_values = []\n",
    "\n",
    "due_date = due7_ret5_ar2_df.head(1)\n",
    "for q in tau:\n",
    "    formula = f'ret5 ~ ret5_lag1 + ret5_lag2'  \n",
    "    model = smf.quantreg(formula, due7_ret5_ar2_df)\n",
    "    result = model.fit(q=q)\n",
    "    predictions = result.predict(due_date)\n",
    "    # Store the predicted values along with the quantile level\n",
    "    estimated_values.append(predictions.rename(q))\n",
    "\n",
    "due7_estimated_values_df = pd.concat(estimated_values, axis=1)\n",
    "\n",
    "# Print the estimated quantiles for the 5-step ahead R on T_0+5\n",
    "print(due7_estimated_values_df)\n"
   ]
  },
  {
   "cell_type": "code",
   "execution_count": 23,
   "id": "3177a6fa",
   "metadata": {},
   "outputs": [],
   "source": [
    "#8 submission round"
   ]
  },
  {
   "cell_type": "code",
   "execution_count": 24,
   "id": "deb07d7e",
   "metadata": {},
   "outputs": [
    {
     "name": "stdout",
     "output_type": "stream",
     "text": [
      "               0.025     0.250     0.500     0.750     0.975\n",
      "Date                                                        \n",
      "2024-01-17 -2.785513 -1.065528 -0.499348  0.086813  2.017098\n"
     ]
    },
    {
     "name": "stderr",
     "output_type": "stream",
     "text": [
      "/var/folders/dd/ghzh11c55_5czyfq85wdrrvc0000gn/T/ipykernel_48127/3762758879.py:3: UserWarning: Converting to PeriodArray/Index representation will drop timezone information.\n",
      "  due8_data_train.index = pd.DatetimeIndex(due8_data_train.index).to_period('D')\n"
     ]
    }
   ],
   "source": [
    "due8_data_train = data_cumret[:258+5]\n",
    "due8_data_train\n",
    "due8_data_train.index = pd.DatetimeIndex(due8_data_train.index).to_period('D')\n",
    "\n",
    "due8_ret5 = due8_data_train[\"ret5\"]\n",
    "\n",
    "due8_lag1_ret5 = due8_ret5[:-1]\n",
    "due8_lag2_ret5 = due8_ret5[:-2]\n",
    "\n",
    "due8_ret5_ar2_df = pd.concat([due8_ret5, due8_lag1_ret5, due8_lag2_ret5], axis=1)\n",
    "\n",
    "due8_ret5_ar2_df.columns = ['ret5', 'ret5_lag1', 'ret5_lag2']\n",
    "due8_ret5_ar2_df = due8_ret5_ar2_df.iloc[::-1]\n",
    "\n",
    "due8_ret5_ar2_df['ret5_lag1'] = due8_ret5_ar2_df['ret5_lag1'].shift(-1)\n",
    "due8_ret5_ar2_df['ret5_lag2'] = due8_ret5_ar2_df['ret5_lag2'].shift(-2)\n",
    "\n",
    "estimated_values = []\n",
    "\n",
    "due_date = due8_ret5_ar2_df.head(1)\n",
    "for q in tau:\n",
    "    formula = f'ret5 ~ ret5_lag1 + ret5_lag2'  \n",
    "    model = smf.quantreg(formula, due8_ret5_ar2_df)\n",
    "    result = model.fit(q=q)\n",
    "    predictions = result.predict(due_date)\n",
    "    # Store the predicted values along with the quantile level\n",
    "    estimated_values.append(predictions.rename(q))\n",
    "\n",
    "due8_estimated_values_df = pd.concat(estimated_values, axis=1)\n",
    "\n",
    "# Print the estimated quantiles for the 5-step ahead R on T_0+5\n",
    "print(due8_estimated_values_df)\n"
   ]
  },
  {
   "cell_type": "code",
   "execution_count": 25,
   "id": "a418c69e",
   "metadata": {},
   "outputs": [],
   "source": [
    "#9 submission "
   ]
  },
  {
   "cell_type": "code",
   "execution_count": 26,
   "id": "11423f49",
   "metadata": {},
   "outputs": [
    {
     "name": "stderr",
     "output_type": "stream",
     "text": [
      "/var/folders/dd/ghzh11c55_5czyfq85wdrrvc0000gn/T/ipykernel_48127/3657365474.py:3: UserWarning: Converting to PeriodArray/Index representation will drop timezone information.\n",
      "  due9_data_train.index = pd.DatetimeIndex(due9_data_train.index).to_period('D')\n"
     ]
    },
    {
     "name": "stdout",
     "output_type": "stream",
     "text": [
      "               0.025     0.250     0.500     0.750     0.975\n",
      "Date                                                        \n",
      "2024-01-24 -1.907725 -0.236998  0.329999  0.853063  2.750523\n"
     ]
    }
   ],
   "source": [
    "due9_data_train = data_cumret[:258+10]\n",
    "due9_data_train\n",
    "due9_data_train.index = pd.DatetimeIndex(due9_data_train.index).to_period('D')\n",
    "\n",
    "due9_ret5 = due9_data_train[\"ret5\"]\n",
    "\n",
    "due9_lag1_ret5 = due9_ret5[:-1]\n",
    "due9_lag2_ret5 = due9_ret5[:-2]\n",
    "\n",
    "due9_ret5_ar2_df = pd.concat([due9_ret5, due9_lag1_ret5, due9_lag2_ret5], axis=1)\n",
    "\n",
    "due9_ret5_ar2_df.columns = ['ret5', 'ret5_lag1', 'ret5_lag2']\n",
    "due9_ret5_ar2_df = due9_ret5_ar2_df.iloc[::-1]\n",
    "\n",
    "due9_ret5_ar2_df['ret5_lag1'] = due9_ret5_ar2_df['ret5_lag1'].shift(-1)\n",
    "due9_ret5_ar2_df['ret5_lag2'] = due9_ret5_ar2_df['ret5_lag2'].shift(-2)\n",
    "\n",
    "estimated_values = []\n",
    "\n",
    "due_date = due9_ret5_ar2_df.head(1)\n",
    "for q in tau:\n",
    "    formula = f'ret5 ~ ret5_lag1 + ret5_lag2'  \n",
    "    model = smf.quantreg(formula, due9_ret5_ar2_df)\n",
    "    result = model.fit(q=q)\n",
    "    predictions = result.predict(due_date)\n",
    "    # Store the predicted values along with the quantile level\n",
    "    estimated_values.append(predictions.rename(q))\n",
    "\n",
    "due9_estimated_values_df = pd.concat(estimated_values, axis=1)\n",
    "\n",
    "# Print the estimated quantiles for the 5-step ahead R on T_0+5\n",
    "print(due9_estimated_values_df)\n"
   ]
  },
  {
   "cell_type": "code",
   "execution_count": 27,
   "id": "148d5fb3",
   "metadata": {},
   "outputs": [],
   "source": [
    "#10 submission "
   ]
  },
  {
   "cell_type": "code",
   "execution_count": 28,
   "id": "bd13f9f3",
   "metadata": {},
   "outputs": [
    {
     "name": "stderr",
     "output_type": "stream",
     "text": [
      "/var/folders/dd/ghzh11c55_5czyfq85wdrrvc0000gn/T/ipykernel_48127/3411710633.py:3: UserWarning: Converting to PeriodArray/Index representation will drop timezone information.\n",
      "  due10_data_train.index = pd.DatetimeIndex(due10_data_train.index).to_period('D')\n"
     ]
    },
    {
     "name": "stdout",
     "output_type": "stream",
     "text": [
      "               0.025     0.250     0.500     0.750     0.975\n",
      "Date                                                        \n",
      "2024-01-31 -0.320114  1.191736  1.696683  2.080693  4.080759\n"
     ]
    }
   ],
   "source": [
    "due10_data_train = data_cumret[:258+15]\n",
    "due10_data_train\n",
    "due10_data_train.index = pd.DatetimeIndex(due10_data_train.index).to_period('D')\n",
    "\n",
    "due10_ret5 = due10_data_train[\"ret5\"]\n",
    "\n",
    "due10_lag1_ret5 = due10_ret5[:-1]\n",
    "due10_lag2_ret5 = due10_ret5[:-2]\n",
    "\n",
    "due10_ret5_ar2_df = pd.concat([due10_ret5, due10_lag1_ret5, due10_lag2_ret5], axis=1)\n",
    "\n",
    "due10_ret5_ar2_df.columns = ['ret5', 'ret5_lag1', 'ret5_lag2']\n",
    "due10_ret5_ar2_df = due10_ret5_ar2_df.iloc[::-1]\n",
    "\n",
    "due10_ret5_ar2_df['ret5_lag1'] = due10_ret5_ar2_df['ret5_lag1'].shift(-1)\n",
    "due10_ret5_ar2_df['ret5_lag2'] = due10_ret5_ar2_df['ret5_lag2'].shift(-2)\n",
    "\n",
    "estimated_values = []\n",
    "\n",
    "due_date = due10_ret5_ar2_df.head(1)\n",
    "for q in tau:\n",
    "    formula = f'ret5 ~ ret5_lag1 + ret5_lag2'  \n",
    "    model = smf.quantreg(formula, due10_ret5_ar2_df)\n",
    "    result = model.fit(q=q)\n",
    "    predictions = result.predict(due_date)\n",
    "    # Store the predicted values along with the quantile level\n",
    "    estimated_values.append(predictions.rename(q))\n",
    "\n",
    "due10_estimated_values_df = pd.concat(estimated_values, axis=1)\n",
    "\n",
    "# Print the estimated quantiles for the 5-step ahead R on T_0+5\n",
    "print(due10_estimated_values_df)\n"
   ]
  },
  {
   "cell_type": "code",
   "execution_count": 29,
   "id": "87c35829",
   "metadata": {},
   "outputs": [],
   "source": [
    "#11 submission "
   ]
  },
  {
   "cell_type": "code",
   "execution_count": 30,
   "id": "ea3125d1",
   "metadata": {},
   "outputs": [
    {
     "name": "stdout",
     "output_type": "stream",
     "text": [
      "               0.025     0.250     0.500     0.750     0.975\n",
      "Date                                                        \n",
      "2024-02-07 -1.680924 -0.139376  0.342303  0.898629  3.051715\n"
     ]
    },
    {
     "name": "stderr",
     "output_type": "stream",
     "text": [
      "/var/folders/dd/ghzh11c55_5czyfq85wdrrvc0000gn/T/ipykernel_48127/1498603778.py:3: UserWarning: Converting to PeriodArray/Index representation will drop timezone information.\n",
      "  due11_data_train.index = pd.DatetimeIndex(due11_data_train.index).to_period('D')\n"
     ]
    }
   ],
   "source": [
    "due11_data_train = data_cumret[:258+20]\n",
    "due11_data_train\n",
    "due11_data_train.index = pd.DatetimeIndex(due11_data_train.index).to_period('D')\n",
    "\n",
    "due11_ret5 = due11_data_train[\"ret5\"]\n",
    "\n",
    "due11_lag1_ret5 = due11_ret5[:-1]\n",
    "due11_lag2_ret5 = due11_ret5[:-2]\n",
    "\n",
    "due11_ret5_ar2_df = pd.concat([due11_ret5, due11_lag1_ret5, due11_lag2_ret5], axis=1)\n",
    "\n",
    "due11_ret5_ar2_df.columns = ['ret5', 'ret5_lag1', 'ret5_lag2']\n",
    "due11_ret5_ar2_df = due11_ret5_ar2_df.iloc[::-1]\n",
    "\n",
    "due11_ret5_ar2_df['ret5_lag1'] = due11_ret5_ar2_df['ret5_lag1'].shift(-1)\n",
    "due11_ret5_ar2_df['ret5_lag2'] = due11_ret5_ar2_df['ret5_lag2'].shift(-2)\n",
    "\n",
    "estimated_values = []\n",
    "\n",
    "due_date = due11_ret5_ar2_df.head(1)\n",
    "for q in tau:\n",
    "    formula = f'ret5 ~ ret5_lag1 + ret5_lag2'  \n",
    "    model = smf.quantreg(formula, due11_ret5_ar2_df)\n",
    "    result = model.fit(q=q)\n",
    "    predictions = result.predict(due_date)\n",
    "    # Store the predicted values along with the quantile level\n",
    "    estimated_values.append(predictions.rename(q))\n",
    "\n",
    "due11_estimated_values_df = pd.concat(estimated_values, axis=1)\n",
    "\n",
    "# Print the estimated quantiles for the 5-step ahead R on T_0+5\n",
    "print(due11_estimated_values_df)\n"
   ]
  },
  {
   "cell_type": "code",
   "execution_count": 31,
   "id": "3a2ad431",
   "metadata": {},
   "outputs": [],
   "source": [
    "#12 submission "
   ]
  },
  {
   "cell_type": "code",
   "execution_count": 32,
   "id": "3fde001d",
   "metadata": {},
   "outputs": [
    {
     "name": "stdout",
     "output_type": "stream",
     "text": [
      "               0.025     0.250     0.500     0.750    0.975\n",
      "Date                                                       \n",
      "2024-02-14 -3.467841 -1.302106 -0.668756  0.008496  1.21304\n"
     ]
    },
    {
     "name": "stderr",
     "output_type": "stream",
     "text": [
      "/var/folders/dd/ghzh11c55_5czyfq85wdrrvc0000gn/T/ipykernel_48127/4282614729.py:3: UserWarning: Converting to PeriodArray/Index representation will drop timezone information.\n",
      "  due12_data_train.index = pd.DatetimeIndex(due12_data_train.index).to_period('D')\n"
     ]
    }
   ],
   "source": [
    "due12_data_train = data_cumret[:258+25]\n",
    "due12_data_train\n",
    "due12_data_train.index = pd.DatetimeIndex(due12_data_train.index).to_period('D')\n",
    "\n",
    "due12_ret5 = due12_data_train[\"ret5\"]\n",
    "\n",
    "due12_lag1_ret5 = due12_ret5[:-1]\n",
    "due12_lag2_ret5 = due12_ret5[:-2]\n",
    "\n",
    "due12_ret5_ar2_df = pd.concat([due12_ret5, due12_lag1_ret5, due12_lag2_ret5], axis=1)\n",
    "\n",
    "due12_ret5_ar2_df.columns = ['ret5', 'ret5_lag1', 'ret5_lag2']\n",
    "due12_ret5_ar2_df = due12_ret5_ar2_df.iloc[::-1]\n",
    "\n",
    "due12_ret5_ar2_df['ret5_lag1'] = due12_ret5_ar2_df['ret5_lag1'].shift(-1)\n",
    "due12_ret5_ar2_df['ret5_lag2'] = due12_ret5_ar2_df['ret5_lag2'].shift(-2)\n",
    "\n",
    "estimated_values = []\n",
    "\n",
    "due_date = due12_ret5_ar2_df.head(1)\n",
    "for q in tau:\n",
    "    formula = f'ret5 ~ ret5_lag1 + ret5_lag2'  \n",
    "    model = smf.quantreg(formula, due12_ret5_ar2_df)\n",
    "    result = model.fit(q=q)\n",
    "    predictions = result.predict(due_date)\n",
    "    # Store the predicted values along with the quantile level\n",
    "    estimated_values.append(predictions.rename(q))\n",
    "\n",
    "due12_estimated_values_df = pd.concat(estimated_values, axis=1)\n",
    "\n",
    "# Print the estimated quantiles for the 5-step ahead R on T_0+5\n",
    "print(due12_estimated_values_df)\n"
   ]
  },
  {
   "cell_type": "code",
   "execution_count": 33,
   "id": "fe96075d",
   "metadata": {},
   "outputs": [],
   "source": [
    "FC_results_list = [due1_estimated_values_df, due2_estimated_values_df, due3_estimated_values_df, due4_estimated_values_df,\n",
    "                  due5_estimated_values_df, due6_estimated_values_df, due7_estimated_values_df, \n",
    "                  due8_estimated_values_df, due9_estimated_values_df,\n",
    "                  due10_estimated_values_df, due11_estimated_values_df, due12_estimated_values_df]\n",
    "FC_results_df = pd.concat(FC_results_list, axis=0)"
   ]
  },
  {
   "cell_type": "code",
   "execution_count": 34,
   "id": "af0dda82",
   "metadata": {},
   "outputs": [
    {
     "data": {
      "text/html": [
       "<div>\n",
       "<style scoped>\n",
       "    .dataframe tbody tr th:only-of-type {\n",
       "        vertical-align: middle;\n",
       "    }\n",
       "\n",
       "    .dataframe tbody tr th {\n",
       "        vertical-align: top;\n",
       "    }\n",
       "\n",
       "    .dataframe thead th {\n",
       "        text-align: right;\n",
       "    }\n",
       "</style>\n",
       "<table border=\"1\" class=\"dataframe\">\n",
       "  <thead>\n",
       "    <tr style=\"text-align: right;\">\n",
       "      <th></th>\n",
       "      <th>0.025</th>\n",
       "      <th>0.250</th>\n",
       "      <th>0.500</th>\n",
       "      <th>0.750</th>\n",
       "      <th>0.975</th>\n",
       "    </tr>\n",
       "    <tr>\n",
       "      <th>Date</th>\n",
       "      <th></th>\n",
       "      <th></th>\n",
       "      <th></th>\n",
       "      <th></th>\n",
       "      <th></th>\n",
       "    </tr>\n",
       "  </thead>\n",
       "  <tbody>\n",
       "    <tr>\n",
       "      <th>2023-11-15</th>\n",
       "      <td>0.839145</td>\n",
       "      <td>1.910696</td>\n",
       "      <td>2.438119</td>\n",
       "      <td>2.833741</td>\n",
       "      <td>5.157442</td>\n",
       "    </tr>\n",
       "    <tr>\n",
       "      <th>2023-11-22</th>\n",
       "      <td>-1.282293</td>\n",
       "      <td>0.516283</td>\n",
       "      <td>1.404680</td>\n",
       "      <td>1.701709</td>\n",
       "      <td>3.070717</td>\n",
       "    </tr>\n",
       "    <tr>\n",
       "      <th>2023-11-29</th>\n",
       "      <td>-1.735772</td>\n",
       "      <td>-0.034008</td>\n",
       "      <td>0.512053</td>\n",
       "      <td>0.964626</td>\n",
       "      <td>3.083005</td>\n",
       "    </tr>\n",
       "    <tr>\n",
       "      <th>2023-12-06</th>\n",
       "      <td>0.789172</td>\n",
       "      <td>2.244870</td>\n",
       "      <td>2.685830</td>\n",
       "      <td>2.985877</td>\n",
       "      <td>4.993377</td>\n",
       "    </tr>\n",
       "    <tr>\n",
       "      <th>2023-12-13</th>\n",
       "      <td>-0.960867</td>\n",
       "      <td>0.694620</td>\n",
       "      <td>1.252413</td>\n",
       "      <td>1.581482</td>\n",
       "      <td>3.250781</td>\n",
       "    </tr>\n",
       "    <tr>\n",
       "      <th>2023-12-20</th>\n",
       "      <td>-2.449035</td>\n",
       "      <td>-0.671395</td>\n",
       "      <td>-0.138446</td>\n",
       "      <td>0.483418</td>\n",
       "      <td>2.684745</td>\n",
       "    </tr>\n",
       "    <tr>\n",
       "      <th>2024-01-10</th>\n",
       "      <td>-2.654994</td>\n",
       "      <td>-0.899444</td>\n",
       "      <td>-0.328061</td>\n",
       "      <td>0.220807</td>\n",
       "      <td>2.083033</td>\n",
       "    </tr>\n",
       "    <tr>\n",
       "      <th>2024-01-17</th>\n",
       "      <td>-2.785513</td>\n",
       "      <td>-1.065528</td>\n",
       "      <td>-0.499348</td>\n",
       "      <td>0.086813</td>\n",
       "      <td>2.017098</td>\n",
       "    </tr>\n",
       "    <tr>\n",
       "      <th>2024-01-24</th>\n",
       "      <td>-1.907725</td>\n",
       "      <td>-0.236998</td>\n",
       "      <td>0.329999</td>\n",
       "      <td>0.853063</td>\n",
       "      <td>2.750523</td>\n",
       "    </tr>\n",
       "    <tr>\n",
       "      <th>2024-01-31</th>\n",
       "      <td>-0.320114</td>\n",
       "      <td>1.191736</td>\n",
       "      <td>1.696683</td>\n",
       "      <td>2.080693</td>\n",
       "      <td>4.080759</td>\n",
       "    </tr>\n",
       "    <tr>\n",
       "      <th>2024-02-07</th>\n",
       "      <td>-1.680924</td>\n",
       "      <td>-0.139376</td>\n",
       "      <td>0.342303</td>\n",
       "      <td>0.898629</td>\n",
       "      <td>3.051715</td>\n",
       "    </tr>\n",
       "    <tr>\n",
       "      <th>2024-02-14</th>\n",
       "      <td>-3.467841</td>\n",
       "      <td>-1.302106</td>\n",
       "      <td>-0.668756</td>\n",
       "      <td>0.008496</td>\n",
       "      <td>1.213040</td>\n",
       "    </tr>\n",
       "  </tbody>\n",
       "</table>\n",
       "</div>"
      ],
      "text/plain": [
       "               0.025     0.250     0.500     0.750     0.975\n",
       "Date                                                        \n",
       "2023-11-15  0.839145  1.910696  2.438119  2.833741  5.157442\n",
       "2023-11-22 -1.282293  0.516283  1.404680  1.701709  3.070717\n",
       "2023-11-29 -1.735772 -0.034008  0.512053  0.964626  3.083005\n",
       "2023-12-06  0.789172  2.244870  2.685830  2.985877  4.993377\n",
       "2023-12-13 -0.960867  0.694620  1.252413  1.581482  3.250781\n",
       "2023-12-20 -2.449035 -0.671395 -0.138446  0.483418  2.684745\n",
       "2024-01-10 -2.654994 -0.899444 -0.328061  0.220807  2.083033\n",
       "2024-01-17 -2.785513 -1.065528 -0.499348  0.086813  2.017098\n",
       "2024-01-24 -1.907725 -0.236998  0.329999  0.853063  2.750523\n",
       "2024-01-31 -0.320114  1.191736  1.696683  2.080693  4.080759\n",
       "2024-02-07 -1.680924 -0.139376  0.342303  0.898629  3.051715\n",
       "2024-02-14 -3.467841 -1.302106 -0.668756  0.008496  1.213040"
      ]
     },
     "execution_count": 34,
     "metadata": {},
     "output_type": "execute_result"
    }
   ],
   "source": [
    "# Each row of the FC_results is the quantile estimation at T0 for T0+5\n",
    "FC_results_df"
   ]
  },
  {
   "cell_type": "code",
   "execution_count": 35,
   "id": "9f1743ae",
   "metadata": {},
   "outputs": [
    {
     "data": {
      "text/html": [
       "<div>\n",
       "<style scoped>\n",
       "    .dataframe tbody tr th:only-of-type {\n",
       "        vertical-align: middle;\n",
       "    }\n",
       "\n",
       "    .dataframe tbody tr th {\n",
       "        vertical-align: top;\n",
       "    }\n",
       "\n",
       "    .dataframe thead th {\n",
       "        text-align: right;\n",
       "    }\n",
       "</style>\n",
       "<table border=\"1\" class=\"dataframe\">\n",
       "  <thead>\n",
       "    <tr style=\"text-align: right;\">\n",
       "      <th></th>\n",
       "      <th>ret5</th>\n",
       "    </tr>\n",
       "    <tr>\n",
       "      <th>Date</th>\n",
       "      <th></th>\n",
       "    </tr>\n",
       "  </thead>\n",
       "  <tbody>\n",
       "    <tr>\n",
       "      <th>2022-12-30 00:00:00+01:00</th>\n",
       "      <td>NaN</td>\n",
       "    </tr>\n",
       "    <tr>\n",
       "      <th>2023-01-02 00:00:00+01:00</th>\n",
       "      <td>NaN</td>\n",
       "    </tr>\n",
       "    <tr>\n",
       "      <th>2023-01-03 00:00:00+01:00</th>\n",
       "      <td>NaN</td>\n",
       "    </tr>\n",
       "    <tr>\n",
       "      <th>2023-01-04 00:00:00+01:00</th>\n",
       "      <td>NaN</td>\n",
       "    </tr>\n",
       "    <tr>\n",
       "      <th>2023-01-05 00:00:00+01:00</th>\n",
       "      <td>NaN</td>\n",
       "    </tr>\n",
       "    <tr>\n",
       "      <th>...</th>\n",
       "      <td>...</td>\n",
       "    </tr>\n",
       "    <tr>\n",
       "      <th>2024-02-19 00:00:00+01:00</th>\n",
       "      <td>0.321775</td>\n",
       "    </tr>\n",
       "    <tr>\n",
       "      <th>2024-02-20 00:00:00+01:00</th>\n",
       "      <td>1.105188</td>\n",
       "    </tr>\n",
       "    <tr>\n",
       "      <th>2024-02-21 00:00:00+01:00</th>\n",
       "      <td>1.013634</td>\n",
       "    </tr>\n",
       "    <tr>\n",
       "      <th>2024-02-22 00:00:00+01:00</th>\n",
       "      <td>1.881442</td>\n",
       "    </tr>\n",
       "    <tr>\n",
       "      <th>2024-02-23 00:00:00+01:00</th>\n",
       "      <td>1.748272</td>\n",
       "    </tr>\n",
       "  </tbody>\n",
       "</table>\n",
       "<p>295 rows × 1 columns</p>\n",
       "</div>"
      ],
      "text/plain": [
       "                               ret5\n",
       "Date                               \n",
       "2022-12-30 00:00:00+01:00       NaN\n",
       "2023-01-02 00:00:00+01:00       NaN\n",
       "2023-01-03 00:00:00+01:00       NaN\n",
       "2023-01-04 00:00:00+01:00       NaN\n",
       "2023-01-05 00:00:00+01:00       NaN\n",
       "...                             ...\n",
       "2024-02-19 00:00:00+01:00  0.321775\n",
       "2024-02-20 00:00:00+01:00  1.105188\n",
       "2024-02-21 00:00:00+01:00  1.013634\n",
       "2024-02-22 00:00:00+01:00  1.881442\n",
       "2024-02-23 00:00:00+01:00  1.748272\n",
       "\n",
       "[295 rows x 1 columns]"
      ]
     },
     "execution_count": 35,
     "metadata": {},
     "output_type": "execute_result"
    }
   ],
   "source": [
    "#Forcasting evaluation\n",
    "\n",
    "relized_data = msft.history(start='2022-12-30', end='2024-02-26')\n",
    "relized_data[\"ret5\"] = compute_return(relized_data[\"Close\"].values, h=5)\n",
    "\n",
    "relized_data = relized_data.drop(columns=[\"Open\", \"High\", \"Low\", \"Close\", \"Volume\", \"Dividends\", \"Stock Splits\"])\n",
    "relized_data"
   ]
  },
  {
   "cell_type": "code",
   "execution_count": 36,
   "id": "d64eaf34",
   "metadata": {},
   "outputs": [],
   "source": [
    "dates =  ['2023-11-15', '2023-11-22', '2023-11-29', '2023-12-06', '2023-12-13', '2023-12-20',\n",
    "         '2024-01-10', '2024-01-17', '2024-01-24', '2024-01-31', '2024-02-07', '2024-02-14']\n",
    "\n",
    "# Increment each date by 7 day to obtain target Wed.\n",
    "dates_5stephead = [(pd.to_datetime(date) + pd.DateOffset(days=7)).strftime('%Y-%m-%d') for date in dates]\n",
    "\n",
    "# Select data from relized_data T0+5\n",
    "realized_T05 = relized_data.loc[dates_5stephead]"
   ]
  },
  {
   "cell_type": "code",
   "execution_count": 37,
   "id": "3eec8000",
   "metadata": {},
   "outputs": [
    {
     "data": {
      "text/plain": [
       "['2023-11-22',\n",
       " '2023-11-29',\n",
       " '2023-12-06',\n",
       " '2023-12-13',\n",
       " '2023-12-20',\n",
       " '2023-12-27',\n",
       " '2024-01-17',\n",
       " '2024-01-24',\n",
       " '2024-01-31',\n",
       " '2024-02-07',\n",
       " '2024-02-14',\n",
       " '2024-02-21']"
      ]
     },
     "execution_count": 37,
     "metadata": {},
     "output_type": "execute_result"
    }
   ],
   "source": [
    "dates_5stephead"
   ]
  },
  {
   "cell_type": "code",
   "execution_count": 38,
   "id": "7f5cc2e3",
   "metadata": {},
   "outputs": [
    {
     "data": {
      "text/plain": [
       "array([[ 1.32248477],\n",
       "       [ 1.29891084],\n",
       "       [ 2.98587764],\n",
       "       [ 0.65591594],\n",
       "       [-0.19702027],\n",
       "       [ 0.54814362],\n",
       "       [-1.55866322],\n",
       "       [ 2.75052356],\n",
       "       [ 0.08190789],\n",
       "       [ 0.10761736],\n",
       "       [ 0.13889171],\n",
       "       [ 1.01363421]])"
      ]
     },
     "execution_count": 38,
     "metadata": {},
     "output_type": "execute_result"
    }
   ],
   "source": [
    "realized_T05.values"
   ]
  },
  {
   "cell_type": "code",
   "execution_count": 39,
   "id": "5ccd7f30",
   "metadata": {
    "scrolled": true
   },
   "outputs": [
    {
     "data": {
      "text/plain": [
       "[[array([0.02416701]),\n",
       "  array([0.88231702]),\n",
       "  array([1.11563374]),\n",
       "  array([0.75562833]),\n",
       "  array([0.19174788])],\n",
       " [array([0.12906017]),\n",
       "  array([0.39131376]),\n",
       "  array([0.10576943]),\n",
       "  array([0.20139885]),\n",
       "  array([0.08859029])],\n",
       " [array([0.23608247]),\n",
       "  array([1.50994297]),\n",
       "  array([2.47382443]),\n",
       "  array([3.0318768]),\n",
       "  array([0.00485635])],\n",
       " [array([0.25984902]),\n",
       "  array([2.38343101]),\n",
       "  array([2.02991451]),\n",
       "  array([1.16498047]),\n",
       "  array([0.21687306])],\n",
       " [array([0.03819236]),\n",
       "  array([1.33746042]),\n",
       "  array([1.44943309]),\n",
       "  array([0.889251]),\n",
       "  array([0.17239007])],\n",
       " [array([0.14985894]),\n",
       "  array([0.60976921]),\n",
       "  array([0.68658946]),\n",
       "  array([0.09708839]),\n",
       "  array([0.10683009])],\n",
       " [array([0.05481655]),\n",
       "  array([0.98882934]),\n",
       "  array([1.23060219]),\n",
       "  array([0.88973515]),\n",
       "  array([0.1820848])],\n",
       " [array([0.2768018]),\n",
       "  array([1.90802601]),\n",
       "  array([3.24987115]),\n",
       "  array([3.99556637]),\n",
       "  array([1.43017923])],\n",
       " [array([0.09948166]),\n",
       "  array([0.15945296]),\n",
       "  array([0.24809121]),\n",
       "  array([0.38557744]),\n",
       "  array([0.13343077])],\n",
       " [array([0.02138655]),\n",
       "  array([1.62617729]),\n",
       "  array([1.5890654]),\n",
       "  array([0.98653802]),\n",
       "  array([0.1986571])],\n",
       " [array([0.09099079]),\n",
       "  array([0.13913379]),\n",
       "  array([0.20341085]),\n",
       "  array([0.37986854]),\n",
       "  array([0.14564117])],\n",
       " [array([0.22407374]),\n",
       "  array([1.15787013]),\n",
       "  array([1.68238984]),\n",
       "  array([1.5077073]),\n",
       "  array([0.00997029])]]"
      ]
     },
     "execution_count": 39,
     "metadata": {},
     "output_type": "execute_result"
    }
   ],
   "source": [
    "def quantile_score(q_hat, y, tau):\n",
    "    scores = []\n",
    "    for i in range(len(tau)):\n",
    "        if q_hat[i] > y:\n",
    "            score = 2 * (1 - tau[i]) * (q_hat[i] - y)\n",
    "        elif y >= q_hat[i]:\n",
    "            score = 2 * tau[i] * (y - q_hat[i])\n",
    "        else:\n",
    "            score = 0\n",
    "        scores.append(score)\n",
    "    return scores\n",
    "\n",
    "ret_5_scores = []\n",
    "\n",
    "\n",
    "# Iterate over each submission day (row) in FC_results\n",
    "\n",
    "for i in range(FC_results_df.shape[0]):\n",
    "    q_hat = FC_results_df.iloc[i].values\n",
    "    y = realized_T05.iloc[i].values\n",
    "    scores = quantile_score(q_hat, y, tau)\n",
    "    ret_5_scores.append(scores)\n",
    "    \n",
    "ret_5_scores"
   ]
  },
  {
   "cell_type": "code",
   "execution_count": 40,
   "id": "1d69349d",
   "metadata": {},
   "outputs": [
    {
     "data": {
      "text/html": [
       "<div>\n",
       "<style scoped>\n",
       "    .dataframe tbody tr th:only-of-type {\n",
       "        vertical-align: middle;\n",
       "    }\n",
       "\n",
       "    .dataframe tbody tr th {\n",
       "        vertical-align: top;\n",
       "    }\n",
       "\n",
       "    .dataframe thead th {\n",
       "        text-align: right;\n",
       "    }\n",
       "</style>\n",
       "<table border=\"1\" class=\"dataframe\">\n",
       "  <thead>\n",
       "    <tr style=\"text-align: right;\">\n",
       "      <th></th>\n",
       "      <th>due1</th>\n",
       "      <th>due2</th>\n",
       "      <th>due3</th>\n",
       "      <th>due4</th>\n",
       "      <th>due5</th>\n",
       "      <th>due6</th>\n",
       "      <th>due7</th>\n",
       "      <th>due8</th>\n",
       "      <th>due9</th>\n",
       "      <th>due10</th>\n",
       "      <th>due11</th>\n",
       "      <th>due12</th>\n",
       "    </tr>\n",
       "  </thead>\n",
       "  <tbody>\n",
       "    <tr>\n",
       "      <th>0</th>\n",
       "      <td>[0.02416701324274111]</td>\n",
       "      <td>[0.12906017232089395]</td>\n",
       "      <td>[0.23608247450008424]</td>\n",
       "      <td>[0.25984902434102586]</td>\n",
       "      <td>[0.03819236019340173]</td>\n",
       "      <td>[0.14985894250120593]</td>\n",
       "      <td>[0.05481655195195814]</td>\n",
       "      <td>[0.27680180285569395]</td>\n",
       "      <td>[0.09948165744715606]</td>\n",
       "      <td>[0.021386549602790912]</td>\n",
       "      <td>[0.09099079161612408]</td>\n",
       "      <td>[0.22407374410497508]</td>\n",
       "    </tr>\n",
       "    <tr>\n",
       "      <th>1</th>\n",
       "      <td>[0.8823170208320609]</td>\n",
       "      <td>[0.39131375948041747]</td>\n",
       "      <td>[1.50994297404673]</td>\n",
       "      <td>[2.3834310091622024]</td>\n",
       "      <td>[1.3374604205007568]</td>\n",
       "      <td>[0.6097692105318424]</td>\n",
       "      <td>[0.9888293443367532]</td>\n",
       "      <td>[1.9080260136179374]</td>\n",
       "      <td>[0.1594529614274023]</td>\n",
       "      <td>[1.6261772866152437]</td>\n",
       "      <td>[0.13913379321155878]</td>\n",
       "      <td>[1.1578701263589108]</td>\n",
       "    </tr>\n",
       "    <tr>\n",
       "      <th>2</th>\n",
       "      <td>[1.1156337403211443]</td>\n",
       "      <td>[0.10576942950703683]</td>\n",
       "      <td>[2.473824433386]</td>\n",
       "      <td>[2.029914514369872]</td>\n",
       "      <td>[1.449433088438823]</td>\n",
       "      <td>[0.6865894611879251]</td>\n",
       "      <td>[1.2306021854019278]</td>\n",
       "      <td>[3.2498711491617644]</td>\n",
       "      <td>[0.24809121069827667]</td>\n",
       "      <td>[1.589065398114628]</td>\n",
       "      <td>[0.20341084784095564]</td>\n",
       "      <td>[1.6823898364378818]</td>\n",
       "    </tr>\n",
       "    <tr>\n",
       "      <th>3</th>\n",
       "      <td>[0.755628331054635]</td>\n",
       "      <td>[0.2013988544381572]</td>\n",
       "      <td>[3.0318767972083465]</td>\n",
       "      <td>[1.1649804661095786]</td>\n",
       "      <td>[0.889251003705464]</td>\n",
       "      <td>[0.09708838705076206]</td>\n",
       "      <td>[0.8897351514653102]</td>\n",
       "      <td>[3.995566371924666]</td>\n",
       "      <td>[0.3855774393922591]</td>\n",
       "      <td>[0.9865380233121996]</td>\n",
       "      <td>[0.3798685370143506]</td>\n",
       "      <td>[1.5077073014725295]</td>\n",
       "    </tr>\n",
       "    <tr>\n",
       "      <th>4</th>\n",
       "      <td>[0.1917478794991412]</td>\n",
       "      <td>[0.08859029137497697]</td>\n",
       "      <td>[0.004856346510468938]</td>\n",
       "      <td>[0.2168730640758071]</td>\n",
       "      <td>[0.17239006918842945]</td>\n",
       "      <td>[0.10683009291851982]</td>\n",
       "      <td>[0.18208480487039666]</td>\n",
       "      <td>[1.430179234514814]</td>\n",
       "      <td>[0.13343077064839629]</td>\n",
       "      <td>[0.19865710073636406]</td>\n",
       "      <td>[0.14564116859806367]</td>\n",
       "      <td>[0.009970291782288941]</td>\n",
       "    </tr>\n",
       "  </tbody>\n",
       "</table>\n",
       "</div>"
      ],
      "text/plain": [
       "                    due1                   due2                    due3  \\\n",
       "0  [0.02416701324274111]  [0.12906017232089395]   [0.23608247450008424]   \n",
       "1   [0.8823170208320609]  [0.39131375948041747]      [1.50994297404673]   \n",
       "2   [1.1156337403211443]  [0.10576942950703683]        [2.473824433386]   \n",
       "3    [0.755628331054635]   [0.2013988544381572]    [3.0318767972083465]   \n",
       "4   [0.1917478794991412]  [0.08859029137497697]  [0.004856346510468938]   \n",
       "\n",
       "                    due4                   due5                   due6  \\\n",
       "0  [0.25984902434102586]  [0.03819236019340173]  [0.14985894250120593]   \n",
       "1   [2.3834310091622024]   [1.3374604205007568]   [0.6097692105318424]   \n",
       "2    [2.029914514369872]    [1.449433088438823]   [0.6865894611879251]   \n",
       "3   [1.1649804661095786]    [0.889251003705464]  [0.09708838705076206]   \n",
       "4   [0.2168730640758071]  [0.17239006918842945]  [0.10683009291851982]   \n",
       "\n",
       "                    due7                   due8                   due9  \\\n",
       "0  [0.05481655195195814]  [0.27680180285569395]  [0.09948165744715606]   \n",
       "1   [0.9888293443367532]   [1.9080260136179374]   [0.1594529614274023]   \n",
       "2   [1.2306021854019278]   [3.2498711491617644]  [0.24809121069827667]   \n",
       "3   [0.8897351514653102]    [3.995566371924666]   [0.3855774393922591]   \n",
       "4  [0.18208480487039666]    [1.430179234514814]  [0.13343077064839629]   \n",
       "\n",
       "                    due10                  due11                   due12  \n",
       "0  [0.021386549602790912]  [0.09099079161612408]   [0.22407374410497508]  \n",
       "1    [1.6261772866152437]  [0.13913379321155878]    [1.1578701263589108]  \n",
       "2     [1.589065398114628]  [0.20341084784095564]    [1.6823898364378818]  \n",
       "3    [0.9865380233121996]   [0.3798685370143506]    [1.5077073014725295]  \n",
       "4   [0.19865710073636406]  [0.14564116859806367]  [0.009970291782288941]  "
      ]
     },
     "execution_count": 40,
     "metadata": {},
     "output_type": "execute_result"
    }
   ],
   "source": [
    "columns = ['due1', 'due2', 'due3', 'due4', 'due5', 'due6', 'due7', 'due8', 'due9', 'due10', 'due11', 'due12']\n",
    "ret_5_scores_df = pd.DataFrame(ret_5_scores).T\n",
    "ret_5_scores_df.columns = columns\n",
    "ret_5_scores_df"
   ]
  },
  {
   "cell_type": "code",
   "execution_count": 41,
   "id": "1e505844",
   "metadata": {},
   "outputs": [],
   "source": [
    "\n",
    "ret_5_scores_df.index = tau"
   ]
  },
  {
   "cell_type": "code",
   "execution_count": 42,
   "id": "022f8327",
   "metadata": {},
   "outputs": [
    {
     "data": {
      "text/html": [
       "<div>\n",
       "<style scoped>\n",
       "    .dataframe tbody tr th:only-of-type {\n",
       "        vertical-align: middle;\n",
       "    }\n",
       "\n",
       "    .dataframe tbody tr th {\n",
       "        vertical-align: top;\n",
       "    }\n",
       "\n",
       "    .dataframe thead th {\n",
       "        text-align: right;\n",
       "    }\n",
       "</style>\n",
       "<table border=\"1\" class=\"dataframe\">\n",
       "  <thead>\n",
       "    <tr style=\"text-align: right;\">\n",
       "      <th></th>\n",
       "      <th>due1</th>\n",
       "      <th>due2</th>\n",
       "      <th>due3</th>\n",
       "      <th>due4</th>\n",
       "      <th>due5</th>\n",
       "      <th>due6</th>\n",
       "      <th>due7</th>\n",
       "      <th>due8</th>\n",
       "      <th>due9</th>\n",
       "      <th>due10</th>\n",
       "      <th>due11</th>\n",
       "      <th>due12</th>\n",
       "    </tr>\n",
       "  </thead>\n",
       "  <tbody>\n",
       "    <tr>\n",
       "      <th>0.025</th>\n",
       "      <td>[0.02416701324274111]</td>\n",
       "      <td>[0.12906017232089395]</td>\n",
       "      <td>[0.23608247450008424]</td>\n",
       "      <td>[0.25984902434102586]</td>\n",
       "      <td>[0.03819236019340173]</td>\n",
       "      <td>[0.14985894250120593]</td>\n",
       "      <td>[0.05481655195195814]</td>\n",
       "      <td>[0.27680180285569395]</td>\n",
       "      <td>[0.09948165744715606]</td>\n",
       "      <td>[0.021386549602790912]</td>\n",
       "      <td>[0.09099079161612408]</td>\n",
       "      <td>[0.22407374410497508]</td>\n",
       "    </tr>\n",
       "    <tr>\n",
       "      <th>0.250</th>\n",
       "      <td>[0.8823170208320609]</td>\n",
       "      <td>[0.39131375948041747]</td>\n",
       "      <td>[1.50994297404673]</td>\n",
       "      <td>[2.3834310091622024]</td>\n",
       "      <td>[1.3374604205007568]</td>\n",
       "      <td>[0.6097692105318424]</td>\n",
       "      <td>[0.9888293443367532]</td>\n",
       "      <td>[1.9080260136179374]</td>\n",
       "      <td>[0.1594529614274023]</td>\n",
       "      <td>[1.6261772866152437]</td>\n",
       "      <td>[0.13913379321155878]</td>\n",
       "      <td>[1.1578701263589108]</td>\n",
       "    </tr>\n",
       "    <tr>\n",
       "      <th>0.500</th>\n",
       "      <td>[1.1156337403211443]</td>\n",
       "      <td>[0.10576942950703683]</td>\n",
       "      <td>[2.473824433386]</td>\n",
       "      <td>[2.029914514369872]</td>\n",
       "      <td>[1.449433088438823]</td>\n",
       "      <td>[0.6865894611879251]</td>\n",
       "      <td>[1.2306021854019278]</td>\n",
       "      <td>[3.2498711491617644]</td>\n",
       "      <td>[0.24809121069827667]</td>\n",
       "      <td>[1.589065398114628]</td>\n",
       "      <td>[0.20341084784095564]</td>\n",
       "      <td>[1.6823898364378818]</td>\n",
       "    </tr>\n",
       "    <tr>\n",
       "      <th>0.750</th>\n",
       "      <td>[0.755628331054635]</td>\n",
       "      <td>[0.2013988544381572]</td>\n",
       "      <td>[3.0318767972083465]</td>\n",
       "      <td>[1.1649804661095786]</td>\n",
       "      <td>[0.889251003705464]</td>\n",
       "      <td>[0.09708838705076206]</td>\n",
       "      <td>[0.8897351514653102]</td>\n",
       "      <td>[3.995566371924666]</td>\n",
       "      <td>[0.3855774393922591]</td>\n",
       "      <td>[0.9865380233121996]</td>\n",
       "      <td>[0.3798685370143506]</td>\n",
       "      <td>[1.5077073014725295]</td>\n",
       "    </tr>\n",
       "    <tr>\n",
       "      <th>0.975</th>\n",
       "      <td>[0.1917478794991412]</td>\n",
       "      <td>[0.08859029137497697]</td>\n",
       "      <td>[0.004856346510468938]</td>\n",
       "      <td>[0.2168730640758071]</td>\n",
       "      <td>[0.17239006918842945]</td>\n",
       "      <td>[0.10683009291851982]</td>\n",
       "      <td>[0.18208480487039666]</td>\n",
       "      <td>[1.430179234514814]</td>\n",
       "      <td>[0.13343077064839629]</td>\n",
       "      <td>[0.19865710073636406]</td>\n",
       "      <td>[0.14564116859806367]</td>\n",
       "      <td>[0.009970291782288941]</td>\n",
       "    </tr>\n",
       "  </tbody>\n",
       "</table>\n",
       "</div>"
      ],
      "text/plain": [
       "                        due1                   due2                    due3  \\\n",
       "0.025  [0.02416701324274111]  [0.12906017232089395]   [0.23608247450008424]   \n",
       "0.250   [0.8823170208320609]  [0.39131375948041747]      [1.50994297404673]   \n",
       "0.500   [1.1156337403211443]  [0.10576942950703683]        [2.473824433386]   \n",
       "0.750    [0.755628331054635]   [0.2013988544381572]    [3.0318767972083465]   \n",
       "0.975   [0.1917478794991412]  [0.08859029137497697]  [0.004856346510468938]   \n",
       "\n",
       "                        due4                   due5                   due6  \\\n",
       "0.025  [0.25984902434102586]  [0.03819236019340173]  [0.14985894250120593]   \n",
       "0.250   [2.3834310091622024]   [1.3374604205007568]   [0.6097692105318424]   \n",
       "0.500    [2.029914514369872]    [1.449433088438823]   [0.6865894611879251]   \n",
       "0.750   [1.1649804661095786]    [0.889251003705464]  [0.09708838705076206]   \n",
       "0.975   [0.2168730640758071]  [0.17239006918842945]  [0.10683009291851982]   \n",
       "\n",
       "                        due7                   due8                   due9  \\\n",
       "0.025  [0.05481655195195814]  [0.27680180285569395]  [0.09948165744715606]   \n",
       "0.250   [0.9888293443367532]   [1.9080260136179374]   [0.1594529614274023]   \n",
       "0.500   [1.2306021854019278]   [3.2498711491617644]  [0.24809121069827667]   \n",
       "0.750   [0.8897351514653102]    [3.995566371924666]   [0.3855774393922591]   \n",
       "0.975  [0.18208480487039666]    [1.430179234514814]  [0.13343077064839629]   \n",
       "\n",
       "                        due10                  due11                   due12  \n",
       "0.025  [0.021386549602790912]  [0.09099079161612408]   [0.22407374410497508]  \n",
       "0.250    [1.6261772866152437]  [0.13913379321155878]    [1.1578701263589108]  \n",
       "0.500     [1.589065398114628]  [0.20341084784095564]    [1.6823898364378818]  \n",
       "0.750    [0.9865380233121996]   [0.3798685370143506]    [1.5077073014725295]  \n",
       "0.975   [0.19865710073636406]  [0.14564116859806367]  [0.009970291782288941]  "
      ]
     },
     "execution_count": 42,
     "metadata": {},
     "output_type": "execute_result"
    }
   ],
   "source": [
    "ret_5_scores_df"
   ]
  },
  {
   "cell_type": "code",
   "execution_count": 43,
   "id": "37c7d68a",
   "metadata": {},
   "outputs": [],
   "source": [
    "ret_5_scores_df=ret_5_scores_df.astype(float)"
   ]
  },
  {
   "cell_type": "code",
   "execution_count": 53,
   "id": "15743ee8",
   "metadata": {},
   "outputs": [
    {
     "data": {
      "text/plain": [
       "Text(0, 0.5, 'Score')"
      ]
     },
     "execution_count": 53,
     "metadata": {},
     "output_type": "execute_result"
    },
    {
     "data": {
      "image/png": "[encoded data removed]",
      "text/plain": [
       "<Figure size 640x480 with 1 Axes>"
      ]
     },
     "metadata": {},
     "output_type": "display_data"
    }
   ],
   "source": [
    "ret_5_scores_df.plot()\n",
    "plt.xlabel('Quantiles')\n",
    "plt.ylabel('Score')"
   ]
  },
  {
   "cell_type": "code",
   "execution_count": null,
   "id": "33b5735a",
   "metadata": {},
   "outputs": [],
   "source": []
  }
 ],
 "metadata": {
  "kernelspec": {
   "display_name": "Python 3 (ipykernel)",
   "language": "python",
   "name": "python3"
  },
  "language_info": {
   "codemirror_mode": {
    "name": "ipython",
    "version": 3
   },
   "file_extension": ".py",
   "mimetype": "text/x-python",
   "name": "python",
   "nbconvert_exporter": "python",
   "pygments_lexer": "ipython3",
   "version": "3.8.18"
  }
 },
 "nbformat": 4,
 "nbformat_minor": 5
}
